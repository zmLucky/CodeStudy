{
 "metadata": {
  "language_info": {
   "codemirror_mode": {
    "name": "ipython",
    "version": 3
   },
   "file_extension": ".py",
   "mimetype": "text/x-python",
   "name": "python",
   "nbconvert_exporter": "python",
   "pygments_lexer": "ipython3",
   "version": "3.8.3-final"
  },
  "orig_nbformat": 2,
  "kernelspec": {
   "name": "Python 3.8.3 64-bit ('base': conda)",
   "display_name": "Python 3.8.3 64-bit ('base': conda)",
   "metadata": {
    "interpreter": {
     "hash": "5c6b2ced12a0a9a61074850cd99b6b50ae7dc80991d302da6b22eae3f9d1b819"
    }
   }
  }
 },
 "nbformat": 4,
 "nbformat_minor": 2,
 "cells": [
  {
   "cell_type": "code",
   "execution_count": 2,
   "metadata": {},
   "outputs": [],
   "source": [
    "import numpy as np\n",
    "import pandas as pd"
   ]
  },
  {
   "cell_type": "code",
   "execution_count": 4,
   "metadata": {},
   "outputs": [
    {
     "output_type": "execute_result",
     "data": {
      "text/plain": [
       "0    1.0\n",
       "1    3.0\n",
       "2    5.0\n",
       "3    NaN\n",
       "4    6.0\n",
       "5    8.0\n",
       "dtype: float64"
      ]
     },
     "metadata": {},
     "execution_count": 4
    }
   ],
   "source": [
    "s = pd.Series([1, 3, 5, np.nan, 6, 8])\n",
    "s"
   ]
  },
  {
   "cell_type": "code",
   "execution_count": 10,
   "metadata": {},
   "outputs": [
    {
     "output_type": "execute_result",
     "data": {
      "text/plain": [
       "DatetimeIndex(['2018-02-27', '2018-02-28', '2018-03-01', '2018-03-02',\n",
       "               '2018-03-03', '2018-03-04'],\n",
       "              dtype='datetime64[ns]', freq='D')"
      ]
     },
     "metadata": {},
     "execution_count": 10
    }
   ],
   "source": [
    "dates = pd.date_range('20180227', periods=6)\n",
    "dates"
   ]
  },
  {
   "cell_type": "code",
   "execution_count": 11,
   "metadata": {},
   "outputs": [
    {
     "output_type": "execute_result",
     "data": {
      "text/plain": [
       "                   A         B         C         D\n",
       "2018-02-27 -0.132690 -0.198666  0.148779 -0.517137\n",
       "2018-02-28 -0.533898  0.841986 -0.726105  0.111035\n",
       "2018-03-01 -1.274616  1.512550 -1.199580  0.143994\n",
       "2018-03-02 -0.077891  0.920499  0.257005 -0.993725\n",
       "2018-03-03 -0.254549  0.897376  2.175093 -0.106682\n",
       "2018-03-04  1.404089 -0.102145  1.343167 -1.968997"
      ],
      "text/html": "<div>\n<style scoped>\n    .dataframe tbody tr th:only-of-type {\n        vertical-align: middle;\n    }\n\n    .dataframe tbody tr th {\n        vertical-align: top;\n    }\n\n    .dataframe thead th {\n        text-align: right;\n    }\n</style>\n<table border=\"1\" class=\"dataframe\">\n  <thead>\n    <tr style=\"text-align: right;\">\n      <th></th>\n      <th>A</th>\n      <th>B</th>\n      <th>C</th>\n      <th>D</th>\n    </tr>\n  </thead>\n  <tbody>\n    <tr>\n      <th>2018-02-27</th>\n      <td>-0.132690</td>\n      <td>-0.198666</td>\n      <td>0.148779</td>\n      <td>-0.517137</td>\n    </tr>\n    <tr>\n      <th>2018-02-28</th>\n      <td>-0.533898</td>\n      <td>0.841986</td>\n      <td>-0.726105</td>\n      <td>0.111035</td>\n    </tr>\n    <tr>\n      <th>2018-03-01</th>\n      <td>-1.274616</td>\n      <td>1.512550</td>\n      <td>-1.199580</td>\n      <td>0.143994</td>\n    </tr>\n    <tr>\n      <th>2018-03-02</th>\n      <td>-0.077891</td>\n      <td>0.920499</td>\n      <td>0.257005</td>\n      <td>-0.993725</td>\n    </tr>\n    <tr>\n      <th>2018-03-03</th>\n      <td>-0.254549</td>\n      <td>0.897376</td>\n      <td>2.175093</td>\n      <td>-0.106682</td>\n    </tr>\n    <tr>\n      <th>2018-03-04</th>\n      <td>1.404089</td>\n      <td>-0.102145</td>\n      <td>1.343167</td>\n      <td>-1.968997</td>\n    </tr>\n  </tbody>\n</table>\n</div>"
     },
     "metadata": {},
     "execution_count": 11
    }
   ],
   "source": [
    "df = pd.DataFrame(np.random.randn(6, 4), index=dates, columns=list('ABCD'))\n",
    "df"
   ]
  },
  {
   "cell_type": "code",
   "execution_count": 17,
   "metadata": {},
   "outputs": [
    {
     "output_type": "execute_result",
     "data": {
      "text/plain": [
       "A           float64\n",
       "B    datetime64[ns]\n",
       "C           float32\n",
       "D             int32\n",
       "E          category\n",
       "F            object\n",
       "dtype: object"
      ]
     },
     "metadata": {},
     "execution_count": 17
    }
   ],
   "source": [
    "df2 = pd.DataFrame({'A': 1.,\n",
    "                    'B': pd.Timestamp('20130102'),\n",
    "                    'C': pd.Series(1, index=list(range(4)), dtype='float32'),\n",
    "                    'D': np.array([3] * 4, dtype='int32'),\n",
    "                    'E': pd.Categorical([\"test\", \"train\", \"test\", \"train\"]),\n",
    "                    'F': 'foo'})\n",
    "df2.dtypes"
   ]
  },
  {
   "cell_type": "code",
   "execution_count": 18,
   "metadata": {},
   "outputs": [
    {
     "output_type": "execute_result",
     "data": {
      "text/plain": [
       "                   A         B         C         D\n",
       "2018-02-27 -0.132690 -0.198666  0.148779 -0.517137\n",
       "2018-02-28 -0.533898  0.841986 -0.726105  0.111035\n",
       "2018-03-01 -1.274616  1.512550 -1.199580  0.143994\n",
       "2018-03-02 -0.077891  0.920499  0.257005 -0.993725\n",
       "2018-03-03 -0.254549  0.897376  2.175093 -0.106682"
      ],
      "text/html": "<div>\n<style scoped>\n    .dataframe tbody tr th:only-of-type {\n        vertical-align: middle;\n    }\n\n    .dataframe tbody tr th {\n        vertical-align: top;\n    }\n\n    .dataframe thead th {\n        text-align: right;\n    }\n</style>\n<table border=\"1\" class=\"dataframe\">\n  <thead>\n    <tr style=\"text-align: right;\">\n      <th></th>\n      <th>A</th>\n      <th>B</th>\n      <th>C</th>\n      <th>D</th>\n    </tr>\n  </thead>\n  <tbody>\n    <tr>\n      <th>2018-02-27</th>\n      <td>-0.132690</td>\n      <td>-0.198666</td>\n      <td>0.148779</td>\n      <td>-0.517137</td>\n    </tr>\n    <tr>\n      <th>2018-02-28</th>\n      <td>-0.533898</td>\n      <td>0.841986</td>\n      <td>-0.726105</td>\n      <td>0.111035</td>\n    </tr>\n    <tr>\n      <th>2018-03-01</th>\n      <td>-1.274616</td>\n      <td>1.512550</td>\n      <td>-1.199580</td>\n      <td>0.143994</td>\n    </tr>\n    <tr>\n      <th>2018-03-02</th>\n      <td>-0.077891</td>\n      <td>0.920499</td>\n      <td>0.257005</td>\n      <td>-0.993725</td>\n    </tr>\n    <tr>\n      <th>2018-03-03</th>\n      <td>-0.254549</td>\n      <td>0.897376</td>\n      <td>2.175093</td>\n      <td>-0.106682</td>\n    </tr>\n  </tbody>\n</table>\n</div>"
     },
     "metadata": {},
     "execution_count": 18
    }
   ],
   "source": [
    "df.head()"
   ]
  },
  {
   "cell_type": "code",
   "execution_count": 20,
   "metadata": {},
   "outputs": [
    {
     "output_type": "execute_result",
     "data": {
      "text/plain": [
       "                   A         B         C         D\n",
       "2018-03-02 -0.077891  0.920499  0.257005 -0.993725\n",
       "2018-03-03 -0.254549  0.897376  2.175093 -0.106682\n",
       "2018-03-04  1.404089 -0.102145  1.343167 -1.968997"
      ],
      "text/html": "<div>\n<style scoped>\n    .dataframe tbody tr th:only-of-type {\n        vertical-align: middle;\n    }\n\n    .dataframe tbody tr th {\n        vertical-align: top;\n    }\n\n    .dataframe thead th {\n        text-align: right;\n    }\n</style>\n<table border=\"1\" class=\"dataframe\">\n  <thead>\n    <tr style=\"text-align: right;\">\n      <th></th>\n      <th>A</th>\n      <th>B</th>\n      <th>C</th>\n      <th>D</th>\n    </tr>\n  </thead>\n  <tbody>\n    <tr>\n      <th>2018-03-02</th>\n      <td>-0.077891</td>\n      <td>0.920499</td>\n      <td>0.257005</td>\n      <td>-0.993725</td>\n    </tr>\n    <tr>\n      <th>2018-03-03</th>\n      <td>-0.254549</td>\n      <td>0.897376</td>\n      <td>2.175093</td>\n      <td>-0.106682</td>\n    </tr>\n    <tr>\n      <th>2018-03-04</th>\n      <td>1.404089</td>\n      <td>-0.102145</td>\n      <td>1.343167</td>\n      <td>-1.968997</td>\n    </tr>\n  </tbody>\n</table>\n</div>"
     },
     "metadata": {},
     "execution_count": 20
    }
   ],
   "source": [
    "df.tail(3)"
   ]
  },
  {
   "cell_type": "code",
   "execution_count": 23,
   "metadata": {},
   "outputs": [
    {
     "output_type": "execute_result",
     "data": {
      "text/plain": [
       "DatetimeIndex(['2018-02-27', '2018-02-28', '2018-03-01', '2018-03-02',\n",
       "               '2018-03-03', '2018-03-04'],\n",
       "              dtype='datetime64[ns]', freq='D')"
      ]
     },
     "metadata": {},
     "execution_count": 23
    }
   ],
   "source": [
    "df.index"
   ]
  },
  {
   "cell_type": "code",
   "execution_count": 24,
   "metadata": {},
   "outputs": [
    {
     "output_type": "execute_result",
     "data": {
      "text/plain": [
       "Index(['A', 'B', 'C', 'D'], dtype='object')"
      ]
     },
     "metadata": {},
     "execution_count": 24
    }
   ],
   "source": [
    "df.columns"
   ]
  },
  {
   "cell_type": "code",
   "execution_count": 26,
   "metadata": {},
   "outputs": [
    {
     "output_type": "execute_result",
     "data": {
      "text/plain": [
       "array([[-0.13269013, -0.19866576,  0.14877856, -0.51713728],\n",
       "       [-0.53389805,  0.84198638, -0.72610477,  0.11103465],\n",
       "       [-1.27461622,  1.51255037, -1.19958016,  0.14399419],\n",
       "       [-0.07789077,  0.92049904,  0.25700511, -0.99372526],\n",
       "       [-0.25454935,  0.89737593,  2.17509266, -0.10668241],\n",
       "       [ 1.40408937, -0.1021453 ,  1.34316662, -1.96899712]])"
      ]
     },
     "metadata": {},
     "execution_count": 26
    }
   ],
   "source": [
    "df.to_numpy()"
   ]
  },
  {
   "cell_type": "code",
   "execution_count": 27,
   "metadata": {},
   "outputs": [
    {
     "output_type": "execute_result",
     "data": {
      "text/plain": [
       "array([[1.0, Timestamp('2013-01-02 00:00:00'), 1.0, 3, 'test', 'foo'],\n",
       "       [1.0, Timestamp('2013-01-02 00:00:00'), 1.0, 3, 'train', 'foo'],\n",
       "       [1.0, Timestamp('2013-01-02 00:00:00'), 1.0, 3, 'test', 'foo'],\n",
       "       [1.0, Timestamp('2013-01-02 00:00:00'), 1.0, 3, 'train', 'foo']],\n",
       "      dtype=object)"
      ]
     },
     "metadata": {},
     "execution_count": 27
    }
   ],
   "source": [
    "df2.to_numpy()"
   ]
  },
  {
   "cell_type": "code",
   "execution_count": 28,
   "metadata": {},
   "outputs": [
    {
     "output_type": "execute_result",
     "data": {
      "text/plain": [
       "              A         B         C         D\n",
       "count  6.000000  6.000000  6.000000  6.000000\n",
       "mean  -0.144926  0.645267  0.333060 -0.555252\n",
       "std    0.876768  0.663481  1.258885  0.815657\n",
       "min   -1.274616 -0.198666 -1.199580 -1.968997\n",
       "25%   -0.464061  0.133888 -0.507384 -0.874578\n",
       "50%   -0.193620  0.869681  0.202892 -0.311910\n",
       "75%   -0.091591  0.914718  1.071626  0.056605\n",
       "max    1.404089  1.512550  2.175093  0.143994"
      ],
      "text/html": "<div>\n<style scoped>\n    .dataframe tbody tr th:only-of-type {\n        vertical-align: middle;\n    }\n\n    .dataframe tbody tr th {\n        vertical-align: top;\n    }\n\n    .dataframe thead th {\n        text-align: right;\n    }\n</style>\n<table border=\"1\" class=\"dataframe\">\n  <thead>\n    <tr style=\"text-align: right;\">\n      <th></th>\n      <th>A</th>\n      <th>B</th>\n      <th>C</th>\n      <th>D</th>\n    </tr>\n  </thead>\n  <tbody>\n    <tr>\n      <th>count</th>\n      <td>6.000000</td>\n      <td>6.000000</td>\n      <td>6.000000</td>\n      <td>6.000000</td>\n    </tr>\n    <tr>\n      <th>mean</th>\n      <td>-0.144926</td>\n      <td>0.645267</td>\n      <td>0.333060</td>\n      <td>-0.555252</td>\n    </tr>\n    <tr>\n      <th>std</th>\n      <td>0.876768</td>\n      <td>0.663481</td>\n      <td>1.258885</td>\n      <td>0.815657</td>\n    </tr>\n    <tr>\n      <th>min</th>\n      <td>-1.274616</td>\n      <td>-0.198666</td>\n      <td>-1.199580</td>\n      <td>-1.968997</td>\n    </tr>\n    <tr>\n      <th>25%</th>\n      <td>-0.464061</td>\n      <td>0.133888</td>\n      <td>-0.507384</td>\n      <td>-0.874578</td>\n    </tr>\n    <tr>\n      <th>50%</th>\n      <td>-0.193620</td>\n      <td>0.869681</td>\n      <td>0.202892</td>\n      <td>-0.311910</td>\n    </tr>\n    <tr>\n      <th>75%</th>\n      <td>-0.091591</td>\n      <td>0.914718</td>\n      <td>1.071626</td>\n      <td>0.056605</td>\n    </tr>\n    <tr>\n      <th>max</th>\n      <td>1.404089</td>\n      <td>1.512550</td>\n      <td>2.175093</td>\n      <td>0.143994</td>\n    </tr>\n  </tbody>\n</table>\n</div>"
     },
     "metadata": {},
     "execution_count": 28
    }
   ],
   "source": [
    "df.describe()"
   ]
  },
  {
   "cell_type": "code",
   "execution_count": 29,
   "metadata": {},
   "outputs": [
    {
     "output_type": "execute_result",
     "data": {
      "text/plain": [
       "   2018-02-27  2018-02-28  2018-03-01  2018-03-02  2018-03-03  2018-03-04\n",
       "A   -0.132690   -0.533898   -1.274616   -0.077891   -0.254549    1.404089\n",
       "B   -0.198666    0.841986    1.512550    0.920499    0.897376   -0.102145\n",
       "C    0.148779   -0.726105   -1.199580    0.257005    2.175093    1.343167\n",
       "D   -0.517137    0.111035    0.143994   -0.993725   -0.106682   -1.968997"
      ],
      "text/html": "<div>\n<style scoped>\n    .dataframe tbody tr th:only-of-type {\n        vertical-align: middle;\n    }\n\n    .dataframe tbody tr th {\n        vertical-align: top;\n    }\n\n    .dataframe thead th {\n        text-align: right;\n    }\n</style>\n<table border=\"1\" class=\"dataframe\">\n  <thead>\n    <tr style=\"text-align: right;\">\n      <th></th>\n      <th>2018-02-27</th>\n      <th>2018-02-28</th>\n      <th>2018-03-01</th>\n      <th>2018-03-02</th>\n      <th>2018-03-03</th>\n      <th>2018-03-04</th>\n    </tr>\n  </thead>\n  <tbody>\n    <tr>\n      <th>A</th>\n      <td>-0.132690</td>\n      <td>-0.533898</td>\n      <td>-1.274616</td>\n      <td>-0.077891</td>\n      <td>-0.254549</td>\n      <td>1.404089</td>\n    </tr>\n    <tr>\n      <th>B</th>\n      <td>-0.198666</td>\n      <td>0.841986</td>\n      <td>1.512550</td>\n      <td>0.920499</td>\n      <td>0.897376</td>\n      <td>-0.102145</td>\n    </tr>\n    <tr>\n      <th>C</th>\n      <td>0.148779</td>\n      <td>-0.726105</td>\n      <td>-1.199580</td>\n      <td>0.257005</td>\n      <td>2.175093</td>\n      <td>1.343167</td>\n    </tr>\n    <tr>\n      <th>D</th>\n      <td>-0.517137</td>\n      <td>0.111035</td>\n      <td>0.143994</td>\n      <td>-0.993725</td>\n      <td>-0.106682</td>\n      <td>-1.968997</td>\n    </tr>\n  </tbody>\n</table>\n</div>"
     },
     "metadata": {},
     "execution_count": 29
    }
   ],
   "source": [
    "df.T"
   ]
  },
  {
   "cell_type": "code",
   "execution_count": 30,
   "metadata": {},
   "outputs": [
    {
     "output_type": "execute_result",
     "data": {
      "text/plain": [
       "2018-02-27   -0.132690\n",
       "2018-02-28   -0.533898\n",
       "2018-03-01   -1.274616\n",
       "2018-03-02   -0.077891\n",
       "2018-03-03   -0.254549\n",
       "2018-03-04    1.404089\n",
       "Freq: D, Name: A, dtype: float64"
      ]
     },
     "metadata": {},
     "execution_count": 30
    }
   ],
   "source": [
    "df['A']"
   ]
  },
  {
   "cell_type": "code",
   "execution_count": 34,
   "metadata": {},
   "outputs": [
    {
     "output_type": "execute_result",
     "data": {
      "text/plain": [
       "                   A         B         C         D\n",
       "2018-02-27 -0.132690 -0.198666  0.148779 -0.517137\n",
       "2018-02-28 -0.533898  0.841986 -0.726105  0.111035\n",
       "2018-03-01 -1.274616  1.512550 -1.199580  0.143994"
      ],
      "text/html": "<div>\n<style scoped>\n    .dataframe tbody tr th:only-of-type {\n        vertical-align: middle;\n    }\n\n    .dataframe tbody tr th {\n        vertical-align: top;\n    }\n\n    .dataframe thead th {\n        text-align: right;\n    }\n</style>\n<table border=\"1\" class=\"dataframe\">\n  <thead>\n    <tr style=\"text-align: right;\">\n      <th></th>\n      <th>A</th>\n      <th>B</th>\n      <th>C</th>\n      <th>D</th>\n    </tr>\n  </thead>\n  <tbody>\n    <tr>\n      <th>2018-02-27</th>\n      <td>-0.132690</td>\n      <td>-0.198666</td>\n      <td>0.148779</td>\n      <td>-0.517137</td>\n    </tr>\n    <tr>\n      <th>2018-02-28</th>\n      <td>-0.533898</td>\n      <td>0.841986</td>\n      <td>-0.726105</td>\n      <td>0.111035</td>\n    </tr>\n    <tr>\n      <th>2018-03-01</th>\n      <td>-1.274616</td>\n      <td>1.512550</td>\n      <td>-1.199580</td>\n      <td>0.143994</td>\n    </tr>\n  </tbody>\n</table>\n</div>"
     },
     "metadata": {},
     "execution_count": 34
    }
   ],
   "source": [
    "df[0:3]"
   ]
  },
  {
   "cell_type": "code",
   "execution_count": 36,
   "metadata": {},
   "outputs": [
    {
     "output_type": "execute_result",
     "data": {
      "text/plain": [
       "                   A         B         C         D\n",
       "2018-02-27 -0.132690 -0.198666  0.148779 -0.517137\n",
       "2018-02-28 -0.533898  0.841986 -0.726105  0.111035\n",
       "2018-03-01 -1.274616  1.512550 -1.199580  0.143994\n",
       "2018-03-02 -0.077891  0.920499  0.257005 -0.993725\n",
       "2018-03-03 -0.254549  0.897376  2.175093 -0.106682\n",
       "2018-03-04  1.404089 -0.102145  1.343167 -1.968997"
      ],
      "text/html": "<div>\n<style scoped>\n    .dataframe tbody tr th:only-of-type {\n        vertical-align: middle;\n    }\n\n    .dataframe tbody tr th {\n        vertical-align: top;\n    }\n\n    .dataframe thead th {\n        text-align: right;\n    }\n</style>\n<table border=\"1\" class=\"dataframe\">\n  <thead>\n    <tr style=\"text-align: right;\">\n      <th></th>\n      <th>A</th>\n      <th>B</th>\n      <th>C</th>\n      <th>D</th>\n    </tr>\n  </thead>\n  <tbody>\n    <tr>\n      <th>2018-02-27</th>\n      <td>-0.132690</td>\n      <td>-0.198666</td>\n      <td>0.148779</td>\n      <td>-0.517137</td>\n    </tr>\n    <tr>\n      <th>2018-02-28</th>\n      <td>-0.533898</td>\n      <td>0.841986</td>\n      <td>-0.726105</td>\n      <td>0.111035</td>\n    </tr>\n    <tr>\n      <th>2018-03-01</th>\n      <td>-1.274616</td>\n      <td>1.512550</td>\n      <td>-1.199580</td>\n      <td>0.143994</td>\n    </tr>\n    <tr>\n      <th>2018-03-02</th>\n      <td>-0.077891</td>\n      <td>0.920499</td>\n      <td>0.257005</td>\n      <td>-0.993725</td>\n    </tr>\n    <tr>\n      <th>2018-03-03</th>\n      <td>-0.254549</td>\n      <td>0.897376</td>\n      <td>2.175093</td>\n      <td>-0.106682</td>\n    </tr>\n    <tr>\n      <th>2018-03-04</th>\n      <td>1.404089</td>\n      <td>-0.102145</td>\n      <td>1.343167</td>\n      <td>-1.968997</td>\n    </tr>\n  </tbody>\n</table>\n</div>"
     },
     "metadata": {},
     "execution_count": 36
    }
   ],
   "source": [
    "df"
   ]
  },
  {
   "cell_type": "code",
   "execution_count": 37,
   "metadata": {},
   "outputs": [
    {
     "output_type": "execute_result",
     "data": {
      "text/plain": [
       "A   -0.132690\n",
       "B   -0.198666\n",
       "C    0.148779\n",
       "D   -0.517137\n",
       "Name: 2018-02-27 00:00:00, dtype: float64"
      ]
     },
     "metadata": {},
     "execution_count": 37
    }
   ],
   "source": [
    "df.loc[dates[0]]"
   ]
  },
  {
   "source": [
    "loc 通过标签获取数据  \n",
    "iloc 通过下标获取数据  \n",
    "at 快速访问标量，按标签访问  \n",
    "iat 快速访问标量，按下标访问"
   ],
   "cell_type": "markdown",
   "metadata": {}
  },
  {
   "source": [
    "df.loc[dates[0], 'A']\n",
    "df.loc[:, ['A','B']]\n",
    "df.at[dates[0], 'A']"
   ],
   "cell_type": "code",
   "metadata": {},
   "execution_count": 45,
   "outputs": [
    {
     "output_type": "execute_result",
     "data": {
      "text/plain": [
       "-0.1326901291752416"
      ]
     },
     "metadata": {},
     "execution_count": 45
    }
   ]
  },
  {
   "cell_type": "code",
   "execution_count": 47,
   "metadata": {},
   "outputs": [
    {
     "output_type": "execute_result",
     "data": {
      "text/plain": [
       "A   -0.077891\n",
       "B    0.920499\n",
       "C    0.257005\n",
       "D   -0.993725\n",
       "Name: 2018-03-02 00:00:00, dtype: float64"
      ]
     },
     "metadata": {},
     "execution_count": 47
    }
   ],
   "source": [
    "df.iloc[3]"
   ]
  },
  {
   "cell_type": "code",
   "execution_count": 49,
   "metadata": {},
   "outputs": [
    {
     "output_type": "execute_result",
     "data": {
      "text/plain": [
       "                   A         B\n",
       "2018-03-02 -0.077891  0.920499\n",
       "2018-03-03 -0.254549  0.897376"
      ],
      "text/html": "<div>\n<style scoped>\n    .dataframe tbody tr th:only-of-type {\n        vertical-align: middle;\n    }\n\n    .dataframe tbody tr th {\n        vertical-align: top;\n    }\n\n    .dataframe thead th {\n        text-align: right;\n    }\n</style>\n<table border=\"1\" class=\"dataframe\">\n  <thead>\n    <tr style=\"text-align: right;\">\n      <th></th>\n      <th>A</th>\n      <th>B</th>\n    </tr>\n  </thead>\n  <tbody>\n    <tr>\n      <th>2018-03-02</th>\n      <td>-0.077891</td>\n      <td>0.920499</td>\n    </tr>\n    <tr>\n      <th>2018-03-03</th>\n      <td>-0.254549</td>\n      <td>0.897376</td>\n    </tr>\n  </tbody>\n</table>\n</div>"
     },
     "metadata": {},
     "execution_count": 49
    }
   ],
   "source": [
    "df.iloc[3:5, 0:2]"
   ]
  },
  {
   "cell_type": "code",
   "execution_count": 50,
   "metadata": {},
   "outputs": [
    {
     "output_type": "execute_result",
     "data": {
      "text/plain": [
       "                   A         C\n",
       "2018-02-28 -0.533898 -0.726105\n",
       "2018-03-02 -0.077891  0.257005\n",
       "2018-03-03 -0.254549  2.175093"
      ],
      "text/html": "<div>\n<style scoped>\n    .dataframe tbody tr th:only-of-type {\n        vertical-align: middle;\n    }\n\n    .dataframe tbody tr th {\n        vertical-align: top;\n    }\n\n    .dataframe thead th {\n        text-align: right;\n    }\n</style>\n<table border=\"1\" class=\"dataframe\">\n  <thead>\n    <tr style=\"text-align: right;\">\n      <th></th>\n      <th>A</th>\n      <th>C</th>\n    </tr>\n  </thead>\n  <tbody>\n    <tr>\n      <th>2018-02-28</th>\n      <td>-0.533898</td>\n      <td>-0.726105</td>\n    </tr>\n    <tr>\n      <th>2018-03-02</th>\n      <td>-0.077891</td>\n      <td>0.257005</td>\n    </tr>\n    <tr>\n      <th>2018-03-03</th>\n      <td>-0.254549</td>\n      <td>2.175093</td>\n    </tr>\n  </tbody>\n</table>\n</div>"
     },
     "metadata": {},
     "execution_count": 50
    }
   ],
   "source": [
    "df.iloc[[1,3,4], [0,2]]"
   ]
  },
  {
   "cell_type": "code",
   "execution_count": 53,
   "metadata": {},
   "outputs": [
    {
     "output_type": "execute_result",
     "data": {
      "text/plain": [
       "                   A         B         C         D\n",
       "2018-02-28 -0.533898  0.841986 -0.726105  0.111035\n",
       "2018-03-01 -1.274616  1.512550 -1.199580  0.143994"
      ],
      "text/html": "<div>\n<style scoped>\n    .dataframe tbody tr th:only-of-type {\n        vertical-align: middle;\n    }\n\n    .dataframe tbody tr th {\n        vertical-align: top;\n    }\n\n    .dataframe thead th {\n        text-align: right;\n    }\n</style>\n<table border=\"1\" class=\"dataframe\">\n  <thead>\n    <tr style=\"text-align: right;\">\n      <th></th>\n      <th>A</th>\n      <th>B</th>\n      <th>C</th>\n      <th>D</th>\n    </tr>\n  </thead>\n  <tbody>\n    <tr>\n      <th>2018-02-28</th>\n      <td>-0.533898</td>\n      <td>0.841986</td>\n      <td>-0.726105</td>\n      <td>0.111035</td>\n    </tr>\n    <tr>\n      <th>2018-03-01</th>\n      <td>-1.274616</td>\n      <td>1.512550</td>\n      <td>-1.199580</td>\n      <td>0.143994</td>\n    </tr>\n  </tbody>\n</table>\n</div>"
     },
     "metadata": {},
     "execution_count": 53
    }
   ],
   "source": [
    "df.iloc[1:3, :]"
   ]
  },
  {
   "cell_type": "code",
   "execution_count": 55,
   "metadata": {},
   "outputs": [
    {
     "output_type": "execute_result",
     "data": {
      "text/plain": [
       "                   B         C\n",
       "2018-02-27 -0.198666  0.148779\n",
       "2018-02-28  0.841986 -0.726105\n",
       "2018-03-01  1.512550 -1.199580\n",
       "2018-03-02  0.920499  0.257005\n",
       "2018-03-03  0.897376  2.175093\n",
       "2018-03-04 -0.102145  1.343167"
      ],
      "text/html": "<div>\n<style scoped>\n    .dataframe tbody tr th:only-of-type {\n        vertical-align: middle;\n    }\n\n    .dataframe tbody tr th {\n        vertical-align: top;\n    }\n\n    .dataframe thead th {\n        text-align: right;\n    }\n</style>\n<table border=\"1\" class=\"dataframe\">\n  <thead>\n    <tr style=\"text-align: right;\">\n      <th></th>\n      <th>B</th>\n      <th>C</th>\n    </tr>\n  </thead>\n  <tbody>\n    <tr>\n      <th>2018-02-27</th>\n      <td>-0.198666</td>\n      <td>0.148779</td>\n    </tr>\n    <tr>\n      <th>2018-02-28</th>\n      <td>0.841986</td>\n      <td>-0.726105</td>\n    </tr>\n    <tr>\n      <th>2018-03-01</th>\n      <td>1.512550</td>\n      <td>-1.199580</td>\n    </tr>\n    <tr>\n      <th>2018-03-02</th>\n      <td>0.920499</td>\n      <td>0.257005</td>\n    </tr>\n    <tr>\n      <th>2018-03-03</th>\n      <td>0.897376</td>\n      <td>2.175093</td>\n    </tr>\n    <tr>\n      <th>2018-03-04</th>\n      <td>-0.102145</td>\n      <td>1.343167</td>\n    </tr>\n  </tbody>\n</table>\n</div>"
     },
     "metadata": {},
     "execution_count": 55
    }
   ],
   "source": [
    "df.iloc[:, 1:3]"
   ]
  },
  {
   "cell_type": "code",
   "execution_count": 58,
   "metadata": {},
   "outputs": [
    {
     "output_type": "execute_result",
     "data": {
      "text/plain": [
       "0.8419863800572258"
      ]
     },
     "metadata": {},
     "execution_count": 58
    }
   ],
   "source": [
    "df.iloc[1,1]"
   ]
  },
  {
   "cell_type": "code",
   "execution_count": 60,
   "metadata": {},
   "outputs": [
    {
     "output_type": "execute_result",
     "data": {
      "text/plain": [
       "                   A         B         C         D\n",
       "2018-02-27       NaN       NaN  0.148779       NaN\n",
       "2018-02-28       NaN  0.841986       NaN  0.111035\n",
       "2018-03-01       NaN  1.512550       NaN  0.143994\n",
       "2018-03-02       NaN  0.920499  0.257005       NaN\n",
       "2018-03-03       NaN  0.897376  2.175093       NaN\n",
       "2018-03-04  1.404089       NaN  1.343167       NaN"
      ],
      "text/html": "<div>\n<style scoped>\n    .dataframe tbody tr th:only-of-type {\n        vertical-align: middle;\n    }\n\n    .dataframe tbody tr th {\n        vertical-align: top;\n    }\n\n    .dataframe thead th {\n        text-align: right;\n    }\n</style>\n<table border=\"1\" class=\"dataframe\">\n  <thead>\n    <tr style=\"text-align: right;\">\n      <th></th>\n      <th>A</th>\n      <th>B</th>\n      <th>C</th>\n      <th>D</th>\n    </tr>\n  </thead>\n  <tbody>\n    <tr>\n      <th>2018-02-27</th>\n      <td>NaN</td>\n      <td>NaN</td>\n      <td>0.148779</td>\n      <td>NaN</td>\n    </tr>\n    <tr>\n      <th>2018-02-28</th>\n      <td>NaN</td>\n      <td>0.841986</td>\n      <td>NaN</td>\n      <td>0.111035</td>\n    </tr>\n    <tr>\n      <th>2018-03-01</th>\n      <td>NaN</td>\n      <td>1.512550</td>\n      <td>NaN</td>\n      <td>0.143994</td>\n    </tr>\n    <tr>\n      <th>2018-03-02</th>\n      <td>NaN</td>\n      <td>0.920499</td>\n      <td>0.257005</td>\n      <td>NaN</td>\n    </tr>\n    <tr>\n      <th>2018-03-03</th>\n      <td>NaN</td>\n      <td>0.897376</td>\n      <td>2.175093</td>\n      <td>NaN</td>\n    </tr>\n    <tr>\n      <th>2018-03-04</th>\n      <td>1.404089</td>\n      <td>NaN</td>\n      <td>1.343167</td>\n      <td>NaN</td>\n    </tr>\n  </tbody>\n</table>\n</div>"
     },
     "metadata": {},
     "execution_count": 60
    }
   ],
   "source": [
    "df[df.A > 0]\n",
    "df[df > 0]"
   ]
  },
  {
   "cell_type": "code",
   "execution_count": 61,
   "metadata": {},
   "outputs": [
    {
     "output_type": "execute_result",
     "data": {
      "text/plain": [
       "2013-01-02    1\n",
       "2013-01-03    2\n",
       "2013-01-04    3\n",
       "2013-01-05    4\n",
       "2013-01-06    5\n",
       "2013-01-07    6\n",
       "Freq: D, dtype: int64"
      ]
     },
     "metadata": {},
     "execution_count": 61
    }
   ],
   "source": [
    "pd.Series([1, 2, 3, 4, 5, 6], index=pd.date_range('20130102', periods=6))"
   ]
  },
  {
   "cell_type": "code",
   "execution_count": 65,
   "metadata": {},
   "outputs": [
    {
     "output_type": "execute_result",
     "data": {
      "text/plain": [
       "                   A         B         C  D\n",
       "2018-02-27  0.000000  0.000000  0.148779  5\n",
       "2018-02-28 -0.533898  0.841986 -0.726105  5\n",
       "2018-03-01 -1.274616  1.512550 -1.199580  5\n",
       "2018-03-02 -0.077891  0.920499  0.257005  5\n",
       "2018-03-03 -0.254549  0.897376  2.175093  5\n",
       "2018-03-04  1.404089 -0.102145  1.343167  5"
      ],
      "text/html": "<div>\n<style scoped>\n    .dataframe tbody tr th:only-of-type {\n        vertical-align: middle;\n    }\n\n    .dataframe tbody tr th {\n        vertical-align: top;\n    }\n\n    .dataframe thead th {\n        text-align: right;\n    }\n</style>\n<table border=\"1\" class=\"dataframe\">\n  <thead>\n    <tr style=\"text-align: right;\">\n      <th></th>\n      <th>A</th>\n      <th>B</th>\n      <th>C</th>\n      <th>D</th>\n    </tr>\n  </thead>\n  <tbody>\n    <tr>\n      <th>2018-02-27</th>\n      <td>0.000000</td>\n      <td>0.000000</td>\n      <td>0.148779</td>\n      <td>5</td>\n    </tr>\n    <tr>\n      <th>2018-02-28</th>\n      <td>-0.533898</td>\n      <td>0.841986</td>\n      <td>-0.726105</td>\n      <td>5</td>\n    </tr>\n    <tr>\n      <th>2018-03-01</th>\n      <td>-1.274616</td>\n      <td>1.512550</td>\n      <td>-1.199580</td>\n      <td>5</td>\n    </tr>\n    <tr>\n      <th>2018-03-02</th>\n      <td>-0.077891</td>\n      <td>0.920499</td>\n      <td>0.257005</td>\n      <td>5</td>\n    </tr>\n    <tr>\n      <th>2018-03-03</th>\n      <td>-0.254549</td>\n      <td>0.897376</td>\n      <td>2.175093</td>\n      <td>5</td>\n    </tr>\n    <tr>\n      <th>2018-03-04</th>\n      <td>1.404089</td>\n      <td>-0.102145</td>\n      <td>1.343167</td>\n      <td>5</td>\n    </tr>\n  </tbody>\n</table>\n</div>"
     },
     "metadata": {},
     "execution_count": 65
    }
   ],
   "source": [
    "df.at[dates[0], 'A'] = 0\n",
    "df.iat[0, 1] = 0\n",
    "df.loc[:, 'D'] = np.array([5] * len(df))\n",
    "df"
   ]
  },
  {
   "cell_type": "code",
   "execution_count": 68,
   "metadata": {},
   "outputs": [
    {
     "output_type": "execute_result",
     "data": {
      "text/plain": [
       "                   A         B         C  D\n",
       "2018-02-27  0.000000  0.000000 -0.148779 -5\n",
       "2018-02-28 -0.533898 -0.841986 -0.726105 -5\n",
       "2018-03-01 -1.274616 -1.512550 -1.199580 -5\n",
       "2018-03-02 -0.077891 -0.920499 -0.257005 -5\n",
       "2018-03-03 -0.254549 -0.897376 -2.175093 -5\n",
       "2018-03-04 -1.404089 -0.102145 -1.343167 -5"
      ],
      "text/html": "<div>\n<style scoped>\n    .dataframe tbody tr th:only-of-type {\n        vertical-align: middle;\n    }\n\n    .dataframe tbody tr th {\n        vertical-align: top;\n    }\n\n    .dataframe thead th {\n        text-align: right;\n    }\n</style>\n<table border=\"1\" class=\"dataframe\">\n  <thead>\n    <tr style=\"text-align: right;\">\n      <th></th>\n      <th>A</th>\n      <th>B</th>\n      <th>C</th>\n      <th>D</th>\n    </tr>\n  </thead>\n  <tbody>\n    <tr>\n      <th>2018-02-27</th>\n      <td>0.000000</td>\n      <td>0.000000</td>\n      <td>-0.148779</td>\n      <td>-5</td>\n    </tr>\n    <tr>\n      <th>2018-02-28</th>\n      <td>-0.533898</td>\n      <td>-0.841986</td>\n      <td>-0.726105</td>\n      <td>-5</td>\n    </tr>\n    <tr>\n      <th>2018-03-01</th>\n      <td>-1.274616</td>\n      <td>-1.512550</td>\n      <td>-1.199580</td>\n      <td>-5</td>\n    </tr>\n    <tr>\n      <th>2018-03-02</th>\n      <td>-0.077891</td>\n      <td>-0.920499</td>\n      <td>-0.257005</td>\n      <td>-5</td>\n    </tr>\n    <tr>\n      <th>2018-03-03</th>\n      <td>-0.254549</td>\n      <td>-0.897376</td>\n      <td>-2.175093</td>\n      <td>-5</td>\n    </tr>\n    <tr>\n      <th>2018-03-04</th>\n      <td>-1.404089</td>\n      <td>-0.102145</td>\n      <td>-1.343167</td>\n      <td>-5</td>\n    </tr>\n  </tbody>\n</table>\n</div>"
     },
     "metadata": {},
     "execution_count": 68
    }
   ],
   "source": [
    "df2 = df.copy()\n",
    "df2[df > 0] = -df2\n",
    "df2"
   ]
  },
  {
   "cell_type": "code",
   "execution_count": 70,
   "metadata": {},
   "outputs": [
    {
     "output_type": "execute_result",
     "data": {
      "text/plain": [
       "2018-02-27    1.287195\n",
       "2018-02-28    1.145496\n",
       "2018-03-01    1.009588\n",
       "2018-03-02    1.524903\n",
       "2018-03-03    1.954480\n",
       "2018-03-04    1.911278\n",
       "Freq: D, dtype: float64"
      ]
     },
     "metadata": {},
     "execution_count": 70
    }
   ],
   "source": [
    "df.mean(1)"
   ]
  },
  {
   "cell_type": "code",
   "execution_count": 72,
   "metadata": {},
   "outputs": [
    {
     "output_type": "execute_result",
     "data": {
      "text/plain": [
       "          0         1         2         3\n",
       "0  0.556235 -0.448470 -0.382139  0.489722\n",
       "1 -0.585111  0.803604  1.715455  0.063911\n",
       "2 -0.491676 -0.652048 -0.108036 -0.495264\n",
       "3 -1.823509  0.056368  1.773168 -2.026296\n",
       "4 -1.853878  0.016984 -0.964715  0.235481\n",
       "5 -0.153390  0.045433  0.084511  0.601562\n",
       "6 -0.506938  0.318574  0.730089 -1.053894\n",
       "7 -0.886038 -0.369934  0.137029 -1.306910\n",
       "8  1.338183  0.216528 -0.822229  0.476874\n",
       "9  0.636925  1.149861  1.742316 -0.457223"
      ],
      "text/html": "<div>\n<style scoped>\n    .dataframe tbody tr th:only-of-type {\n        vertical-align: middle;\n    }\n\n    .dataframe tbody tr th {\n        vertical-align: top;\n    }\n\n    .dataframe thead th {\n        text-align: right;\n    }\n</style>\n<table border=\"1\" class=\"dataframe\">\n  <thead>\n    <tr style=\"text-align: right;\">\n      <th></th>\n      <th>0</th>\n      <th>1</th>\n      <th>2</th>\n      <th>3</th>\n    </tr>\n  </thead>\n  <tbody>\n    <tr>\n      <th>0</th>\n      <td>0.556235</td>\n      <td>-0.448470</td>\n      <td>-0.382139</td>\n      <td>0.489722</td>\n    </tr>\n    <tr>\n      <th>1</th>\n      <td>-0.585111</td>\n      <td>0.803604</td>\n      <td>1.715455</td>\n      <td>0.063911</td>\n    </tr>\n    <tr>\n      <th>2</th>\n      <td>-0.491676</td>\n      <td>-0.652048</td>\n      <td>-0.108036</td>\n      <td>-0.495264</td>\n    </tr>\n    <tr>\n      <th>3</th>\n      <td>-1.823509</td>\n      <td>0.056368</td>\n      <td>1.773168</td>\n      <td>-2.026296</td>\n    </tr>\n    <tr>\n      <th>4</th>\n      <td>-1.853878</td>\n      <td>0.016984</td>\n      <td>-0.964715</td>\n      <td>0.235481</td>\n    </tr>\n    <tr>\n      <th>5</th>\n      <td>-0.153390</td>\n      <td>0.045433</td>\n      <td>0.084511</td>\n      <td>0.601562</td>\n    </tr>\n    <tr>\n      <th>6</th>\n      <td>-0.506938</td>\n      <td>0.318574</td>\n      <td>0.730089</td>\n      <td>-1.053894</td>\n    </tr>\n    <tr>\n      <th>7</th>\n      <td>-0.886038</td>\n      <td>-0.369934</td>\n      <td>0.137029</td>\n      <td>-1.306910</td>\n    </tr>\n    <tr>\n      <th>8</th>\n      <td>1.338183</td>\n      <td>0.216528</td>\n      <td>-0.822229</td>\n      <td>0.476874</td>\n    </tr>\n    <tr>\n      <th>9</th>\n      <td>0.636925</td>\n      <td>1.149861</td>\n      <td>1.742316</td>\n      <td>-0.457223</td>\n    </tr>\n  </tbody>\n</table>\n</div>"
     },
     "metadata": {},
     "execution_count": 72
    }
   ],
   "source": [
    "df = pd.DataFrame(np.random.randn(10,4))\n",
    "df"
   ]
  }
 ]
}