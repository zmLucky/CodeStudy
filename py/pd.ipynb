{
 "metadata": {
  "language_info": {
   "codemirror_mode": {
    "name": "ipython",
    "version": 3
   },
   "file_extension": ".py",
   "mimetype": "text/x-python",
   "name": "python",
   "nbconvert_exporter": "python",
   "pygments_lexer": "ipython3",
   "version": "3.7.7-final"
  },
  "orig_nbformat": 2,
  "kernelspec": {
   "name": "python37764bitfinconda07dd842f77c644ed99e9463e18396373",
   "display_name": "Python 3.7.7 64-bit ('fin': conda)"
  }
 },
 "nbformat": 4,
 "nbformat_minor": 2,
 "cells": [
  {
   "cell_type": "code",
   "execution_count": 1,
   "metadata": {},
   "outputs": [],
   "source": [
    "import numpy as np\n",
    "import pandas as pd"
   ]
  },
  {
   "cell_type": "code",
   "execution_count": 2,
   "metadata": {},
   "outputs": [
    {
     "output_type": "execute_result",
     "data": {
      "text/plain": [
       "0    1.0\n",
       "1    3.0\n",
       "2    5.0\n",
       "3    NaN\n",
       "4    6.0\n",
       "5    8.0\n",
       "dtype: float64"
      ]
     },
     "metadata": {},
     "execution_count": 2
    }
   ],
   "source": [
    "s = pd.Series([1, 3, 5, np.nan, 6, 8])\n",
    "s"
   ]
  },
  {
   "cell_type": "code",
   "execution_count": 3,
   "metadata": {},
   "outputs": [
    {
     "output_type": "execute_result",
     "data": {
      "text/plain": [
       "DatetimeIndex(['2018-02-27', '2018-02-28', '2018-03-01', '2018-03-02',\n",
       "               '2018-03-03', '2018-03-04'],\n",
       "              dtype='datetime64[ns]', freq='D')"
      ]
     },
     "metadata": {},
     "execution_count": 3
    }
   ],
   "source": [
    "dates = pd.date_range('20180227', periods=6)\n",
    "dates"
   ]
  },
  {
   "cell_type": "code",
   "execution_count": 4,
   "metadata": {},
   "outputs": [
    {
     "output_type": "execute_result",
     "data": {
      "text/plain": [
       "                   A         B         C         D\n",
       "2018-02-27 -1.015393 -0.010460 -0.675657 -0.644284\n",
       "2018-02-28 -0.167457  1.519318 -0.575699  0.922035\n",
       "2018-03-01 -1.123701  0.361944  0.032728 -0.093272\n",
       "2018-03-02  0.679019 -0.359183  0.488338 -1.175956\n",
       "2018-03-03  0.842802 -1.527014  0.377715  0.186068\n",
       "2018-03-04 -0.352395  0.547825  0.364325 -0.756969"
      ],
      "text/html": "<div>\n<style scoped>\n    .dataframe tbody tr th:only-of-type {\n        vertical-align: middle;\n    }\n\n    .dataframe tbody tr th {\n        vertical-align: top;\n    }\n\n    .dataframe thead th {\n        text-align: right;\n    }\n</style>\n<table border=\"1\" class=\"dataframe\">\n  <thead>\n    <tr style=\"text-align: right;\">\n      <th></th>\n      <th>A</th>\n      <th>B</th>\n      <th>C</th>\n      <th>D</th>\n    </tr>\n  </thead>\n  <tbody>\n    <tr>\n      <th>2018-02-27</th>\n      <td>-1.015393</td>\n      <td>-0.010460</td>\n      <td>-0.675657</td>\n      <td>-0.644284</td>\n    </tr>\n    <tr>\n      <th>2018-02-28</th>\n      <td>-0.167457</td>\n      <td>1.519318</td>\n      <td>-0.575699</td>\n      <td>0.922035</td>\n    </tr>\n    <tr>\n      <th>2018-03-01</th>\n      <td>-1.123701</td>\n      <td>0.361944</td>\n      <td>0.032728</td>\n      <td>-0.093272</td>\n    </tr>\n    <tr>\n      <th>2018-03-02</th>\n      <td>0.679019</td>\n      <td>-0.359183</td>\n      <td>0.488338</td>\n      <td>-1.175956</td>\n    </tr>\n    <tr>\n      <th>2018-03-03</th>\n      <td>0.842802</td>\n      <td>-1.527014</td>\n      <td>0.377715</td>\n      <td>0.186068</td>\n    </tr>\n    <tr>\n      <th>2018-03-04</th>\n      <td>-0.352395</td>\n      <td>0.547825</td>\n      <td>0.364325</td>\n      <td>-0.756969</td>\n    </tr>\n  </tbody>\n</table>\n</div>"
     },
     "metadata": {},
     "execution_count": 4
    }
   ],
   "source": [
    "df = pd.DataFrame(np.random.randn(6, 4), index=dates, columns=list('ABCD'))\n",
    "df"
   ]
  },
  {
   "cell_type": "code",
   "execution_count": 5,
   "metadata": {},
   "outputs": [
    {
     "output_type": "execute_result",
     "data": {
      "text/plain": [
       "A           float64\n",
       "B    datetime64[ns]\n",
       "C           float32\n",
       "D             int32\n",
       "E          category\n",
       "F            object\n",
       "dtype: object"
      ]
     },
     "metadata": {},
     "execution_count": 5
    }
   ],
   "source": [
    "df2 = pd.DataFrame({'A': 1.,\n",
    "                    'B': pd.Timestamp('20130102'),\n",
    "                    'C': pd.Series(1, index=list(range(4)), dtype='float32'),\n",
    "                    'D': np.array([3] * 4, dtype='int32'),\n",
    "                    'E': pd.Categorical([\"test\", \"train\", \"test\", \"train\"]),\n",
    "                    'F': 'foo'})\n",
    "df2.dtypes"
   ]
  },
  {
   "cell_type": "code",
   "execution_count": 18,
   "metadata": {},
   "outputs": [
    {
     "output_type": "execute_result",
     "data": {
      "text/plain": [
       "                   A         B         C         D\n",
       "2018-02-27 -0.132690 -0.198666  0.148779 -0.517137\n",
       "2018-02-28 -0.533898  0.841986 -0.726105  0.111035\n",
       "2018-03-01 -1.274616  1.512550 -1.199580  0.143994\n",
       "2018-03-02 -0.077891  0.920499  0.257005 -0.993725\n",
       "2018-03-03 -0.254549  0.897376  2.175093 -0.106682"
      ],
      "text/html": "<div>\n<style scoped>\n    .dataframe tbody tr th:only-of-type {\n        vertical-align: middle;\n    }\n\n    .dataframe tbody tr th {\n        vertical-align: top;\n    }\n\n    .dataframe thead th {\n        text-align: right;\n    }\n</style>\n<table border=\"1\" class=\"dataframe\">\n  <thead>\n    <tr style=\"text-align: right;\">\n      <th></th>\n      <th>A</th>\n      <th>B</th>\n      <th>C</th>\n      <th>D</th>\n    </tr>\n  </thead>\n  <tbody>\n    <tr>\n      <th>2018-02-27</th>\n      <td>-0.132690</td>\n      <td>-0.198666</td>\n      <td>0.148779</td>\n      <td>-0.517137</td>\n    </tr>\n    <tr>\n      <th>2018-02-28</th>\n      <td>-0.533898</td>\n      <td>0.841986</td>\n      <td>-0.726105</td>\n      <td>0.111035</td>\n    </tr>\n    <tr>\n      <th>2018-03-01</th>\n      <td>-1.274616</td>\n      <td>1.512550</td>\n      <td>-1.199580</td>\n      <td>0.143994</td>\n    </tr>\n    <tr>\n      <th>2018-03-02</th>\n      <td>-0.077891</td>\n      <td>0.920499</td>\n      <td>0.257005</td>\n      <td>-0.993725</td>\n    </tr>\n    <tr>\n      <th>2018-03-03</th>\n      <td>-0.254549</td>\n      <td>0.897376</td>\n      <td>2.175093</td>\n      <td>-0.106682</td>\n    </tr>\n  </tbody>\n</table>\n</div>"
     },
     "metadata": {},
     "execution_count": 18
    }
   ],
   "source": [
    "df.head()"
   ]
  },
  {
   "cell_type": "code",
   "execution_count": null,
   "metadata": {},
   "outputs": [],
   "source": []
  },
  {
   "cell_type": "code",
   "execution_count": 20,
   "metadata": {},
   "outputs": [
    {
     "output_type": "execute_result",
     "data": {
      "text/plain": [
       "                   A         B         C         D\n",
       "2018-03-02 -0.077891  0.920499  0.257005 -0.993725\n",
       "2018-03-03 -0.254549  0.897376  2.175093 -0.106682\n",
       "2018-03-04  1.404089 -0.102145  1.343167 -1.968997"
      ],
      "text/html": "<div>\n<style scoped>\n    .dataframe tbody tr th:only-of-type {\n        vertical-align: middle;\n    }\n\n    .dataframe tbody tr th {\n        vertical-align: top;\n    }\n\n    .dataframe thead th {\n        text-align: right;\n    }\n</style>\n<table border=\"1\" class=\"dataframe\">\n  <thead>\n    <tr style=\"text-align: right;\">\n      <th></th>\n      <th>A</th>\n      <th>B</th>\n      <th>C</th>\n      <th>D</th>\n    </tr>\n  </thead>\n  <tbody>\n    <tr>\n      <th>2018-03-02</th>\n      <td>-0.077891</td>\n      <td>0.920499</td>\n      <td>0.257005</td>\n      <td>-0.993725</td>\n    </tr>\n    <tr>\n      <th>2018-03-03</th>\n      <td>-0.254549</td>\n      <td>0.897376</td>\n      <td>2.175093</td>\n      <td>-0.106682</td>\n    </tr>\n    <tr>\n      <th>2018-03-04</th>\n      <td>1.404089</td>\n      <td>-0.102145</td>\n      <td>1.343167</td>\n      <td>-1.968997</td>\n    </tr>\n  </tbody>\n</table>\n</div>"
     },
     "metadata": {},
     "execution_count": 20
    }
   ],
   "source": [
    "df.tail(3)"
   ]
  },
  {
   "cell_type": "code",
   "execution_count": 23,
   "metadata": {},
   "outputs": [
    {
     "output_type": "execute_result",
     "data": {
      "text/plain": [
       "DatetimeIndex(['2018-02-27', '2018-02-28', '2018-03-01', '2018-03-02',\n",
       "               '2018-03-03', '2018-03-04'],\n",
       "              dtype='datetime64[ns]', freq='D')"
      ]
     },
     "metadata": {},
     "execution_count": 23
    }
   ],
   "source": [
    "df.index"
   ]
  },
  {
   "cell_type": "code",
   "execution_count": 24,
   "metadata": {},
   "outputs": [
    {
     "output_type": "execute_result",
     "data": {
      "text/plain": [
       "Index(['A', 'B', 'C', 'D'], dtype='object')"
      ]
     },
     "metadata": {},
     "execution_count": 24
    }
   ],
   "source": [
    "df.columns"
   ]
  },
  {
   "cell_type": "code",
   "execution_count": 26,
   "metadata": {},
   "outputs": [
    {
     "output_type": "execute_result",
     "data": {
      "text/plain": [
       "array([[-0.13269013, -0.19866576,  0.14877856, -0.51713728],\n",
       "       [-0.53389805,  0.84198638, -0.72610477,  0.11103465],\n",
       "       [-1.27461622,  1.51255037, -1.19958016,  0.14399419],\n",
       "       [-0.07789077,  0.92049904,  0.25700511, -0.99372526],\n",
       "       [-0.25454935,  0.89737593,  2.17509266, -0.10668241],\n",
       "       [ 1.40408937, -0.1021453 ,  1.34316662, -1.96899712]])"
      ]
     },
     "metadata": {},
     "execution_count": 26
    }
   ],
   "source": [
    "df.to_numpy()"
   ]
  },
  {
   "cell_type": "code",
   "execution_count": 27,
   "metadata": {},
   "outputs": [
    {
     "output_type": "execute_result",
     "data": {
      "text/plain": [
       "array([[1.0, Timestamp('2013-01-02 00:00:00'), 1.0, 3, 'test', 'foo'],\n",
       "       [1.0, Timestamp('2013-01-02 00:00:00'), 1.0, 3, 'train', 'foo'],\n",
       "       [1.0, Timestamp('2013-01-02 00:00:00'), 1.0, 3, 'test', 'foo'],\n",
       "       [1.0, Timestamp('2013-01-02 00:00:00'), 1.0, 3, 'train', 'foo']],\n",
       "      dtype=object)"
      ]
     },
     "metadata": {},
     "execution_count": 27
    }
   ],
   "source": [
    "df2.to_numpy()"
   ]
  },
  {
   "cell_type": "code",
   "execution_count": 28,
   "metadata": {},
   "outputs": [
    {
     "output_type": "execute_result",
     "data": {
      "text/plain": [
       "              A         B         C         D\n",
       "count  6.000000  6.000000  6.000000  6.000000\n",
       "mean  -0.144926  0.645267  0.333060 -0.555252\n",
       "std    0.876768  0.663481  1.258885  0.815657\n",
       "min   -1.274616 -0.198666 -1.199580 -1.968997\n",
       "25%   -0.464061  0.133888 -0.507384 -0.874578\n",
       "50%   -0.193620  0.869681  0.202892 -0.311910\n",
       "75%   -0.091591  0.914718  1.071626  0.056605\n",
       "max    1.404089  1.512550  2.175093  0.143994"
      ],
      "text/html": "<div>\n<style scoped>\n    .dataframe tbody tr th:only-of-type {\n        vertical-align: middle;\n    }\n\n    .dataframe tbody tr th {\n        vertical-align: top;\n    }\n\n    .dataframe thead th {\n        text-align: right;\n    }\n</style>\n<table border=\"1\" class=\"dataframe\">\n  <thead>\n    <tr style=\"text-align: right;\">\n      <th></th>\n      <th>A</th>\n      <th>B</th>\n      <th>C</th>\n      <th>D</th>\n    </tr>\n  </thead>\n  <tbody>\n    <tr>\n      <th>count</th>\n      <td>6.000000</td>\n      <td>6.000000</td>\n      <td>6.000000</td>\n      <td>6.000000</td>\n    </tr>\n    <tr>\n      <th>mean</th>\n      <td>-0.144926</td>\n      <td>0.645267</td>\n      <td>0.333060</td>\n      <td>-0.555252</td>\n    </tr>\n    <tr>\n      <th>std</th>\n      <td>0.876768</td>\n      <td>0.663481</td>\n      <td>1.258885</td>\n      <td>0.815657</td>\n    </tr>\n    <tr>\n      <th>min</th>\n      <td>-1.274616</td>\n      <td>-0.198666</td>\n      <td>-1.199580</td>\n      <td>-1.968997</td>\n    </tr>\n    <tr>\n      <th>25%</th>\n      <td>-0.464061</td>\n      <td>0.133888</td>\n      <td>-0.507384</td>\n      <td>-0.874578</td>\n    </tr>\n    <tr>\n      <th>50%</th>\n      <td>-0.193620</td>\n      <td>0.869681</td>\n      <td>0.202892</td>\n      <td>-0.311910</td>\n    </tr>\n    <tr>\n      <th>75%</th>\n      <td>-0.091591</td>\n      <td>0.914718</td>\n      <td>1.071626</td>\n      <td>0.056605</td>\n    </tr>\n    <tr>\n      <th>max</th>\n      <td>1.404089</td>\n      <td>1.512550</td>\n      <td>2.175093</td>\n      <td>0.143994</td>\n    </tr>\n  </tbody>\n</table>\n</div>"
     },
     "metadata": {},
     "execution_count": 28
    }
   ],
   "source": [
    "df.describe()"
   ]
  },
  {
   "cell_type": "code",
   "execution_count": 29,
   "metadata": {},
   "outputs": [
    {
     "output_type": "execute_result",
     "data": {
      "text/plain": [
       "   2018-02-27  2018-02-28  2018-03-01  2018-03-02  2018-03-03  2018-03-04\n",
       "A   -0.132690   -0.533898   -1.274616   -0.077891   -0.254549    1.404089\n",
       "B   -0.198666    0.841986    1.512550    0.920499    0.897376   -0.102145\n",
       "C    0.148779   -0.726105   -1.199580    0.257005    2.175093    1.343167\n",
       "D   -0.517137    0.111035    0.143994   -0.993725   -0.106682   -1.968997"
      ],
      "text/html": "<div>\n<style scoped>\n    .dataframe tbody tr th:only-of-type {\n        vertical-align: middle;\n    }\n\n    .dataframe tbody tr th {\n        vertical-align: top;\n    }\n\n    .dataframe thead th {\n        text-align: right;\n    }\n</style>\n<table border=\"1\" class=\"dataframe\">\n  <thead>\n    <tr style=\"text-align: right;\">\n      <th></th>\n      <th>2018-02-27</th>\n      <th>2018-02-28</th>\n      <th>2018-03-01</th>\n      <th>2018-03-02</th>\n      <th>2018-03-03</th>\n      <th>2018-03-04</th>\n    </tr>\n  </thead>\n  <tbody>\n    <tr>\n      <th>A</th>\n      <td>-0.132690</td>\n      <td>-0.533898</td>\n      <td>-1.274616</td>\n      <td>-0.077891</td>\n      <td>-0.254549</td>\n      <td>1.404089</td>\n    </tr>\n    <tr>\n      <th>B</th>\n      <td>-0.198666</td>\n      <td>0.841986</td>\n      <td>1.512550</td>\n      <td>0.920499</td>\n      <td>0.897376</td>\n      <td>-0.102145</td>\n    </tr>\n    <tr>\n      <th>C</th>\n      <td>0.148779</td>\n      <td>-0.726105</td>\n      <td>-1.199580</td>\n      <td>0.257005</td>\n      <td>2.175093</td>\n      <td>1.343167</td>\n    </tr>\n    <tr>\n      <th>D</th>\n      <td>-0.517137</td>\n      <td>0.111035</td>\n      <td>0.143994</td>\n      <td>-0.993725</td>\n      <td>-0.106682</td>\n      <td>-1.968997</td>\n    </tr>\n  </tbody>\n</table>\n</div>"
     },
     "metadata": {},
     "execution_count": 29
    }
   ],
   "source": [
    "df.T"
   ]
  },
  {
   "cell_type": "code",
   "execution_count": 30,
   "metadata": {},
   "outputs": [
    {
     "output_type": "execute_result",
     "data": {
      "text/plain": [
       "2018-02-27   -0.132690\n",
       "2018-02-28   -0.533898\n",
       "2018-03-01   -1.274616\n",
       "2018-03-02   -0.077891\n",
       "2018-03-03   -0.254549\n",
       "2018-03-04    1.404089\n",
       "Freq: D, Name: A, dtype: float64"
      ]
     },
     "metadata": {},
     "execution_count": 30
    }
   ],
   "source": [
    "df['A']"
   ]
  },
  {
   "cell_type": "code",
   "execution_count": 34,
   "metadata": {},
   "outputs": [
    {
     "output_type": "execute_result",
     "data": {
      "text/plain": [
       "                   A         B         C         D\n",
       "2018-02-27 -0.132690 -0.198666  0.148779 -0.517137\n",
       "2018-02-28 -0.533898  0.841986 -0.726105  0.111035\n",
       "2018-03-01 -1.274616  1.512550 -1.199580  0.143994"
      ],
      "text/html": "<div>\n<style scoped>\n    .dataframe tbody tr th:only-of-type {\n        vertical-align: middle;\n    }\n\n    .dataframe tbody tr th {\n        vertical-align: top;\n    }\n\n    .dataframe thead th {\n        text-align: right;\n    }\n</style>\n<table border=\"1\" class=\"dataframe\">\n  <thead>\n    <tr style=\"text-align: right;\">\n      <th></th>\n      <th>A</th>\n      <th>B</th>\n      <th>C</th>\n      <th>D</th>\n    </tr>\n  </thead>\n  <tbody>\n    <tr>\n      <th>2018-02-27</th>\n      <td>-0.132690</td>\n      <td>-0.198666</td>\n      <td>0.148779</td>\n      <td>-0.517137</td>\n    </tr>\n    <tr>\n      <th>2018-02-28</th>\n      <td>-0.533898</td>\n      <td>0.841986</td>\n      <td>-0.726105</td>\n      <td>0.111035</td>\n    </tr>\n    <tr>\n      <th>2018-03-01</th>\n      <td>-1.274616</td>\n      <td>1.512550</td>\n      <td>-1.199580</td>\n      <td>0.143994</td>\n    </tr>\n  </tbody>\n</table>\n</div>"
     },
     "metadata": {},
     "execution_count": 34
    }
   ],
   "source": [
    "df[0:3]"
   ]
  },
  {
   "cell_type": "code",
   "execution_count": 36,
   "metadata": {},
   "outputs": [
    {
     "output_type": "execute_result",
     "data": {
      "text/plain": [
       "                   A         B         C         D\n",
       "2018-02-27 -0.132690 -0.198666  0.148779 -0.517137\n",
       "2018-02-28 -0.533898  0.841986 -0.726105  0.111035\n",
       "2018-03-01 -1.274616  1.512550 -1.199580  0.143994\n",
       "2018-03-02 -0.077891  0.920499  0.257005 -0.993725\n",
       "2018-03-03 -0.254549  0.897376  2.175093 -0.106682\n",
       "2018-03-04  1.404089 -0.102145  1.343167 -1.968997"
      ],
      "text/html": "<div>\n<style scoped>\n    .dataframe tbody tr th:only-of-type {\n        vertical-align: middle;\n    }\n\n    .dataframe tbody tr th {\n        vertical-align: top;\n    }\n\n    .dataframe thead th {\n        text-align: right;\n    }\n</style>\n<table border=\"1\" class=\"dataframe\">\n  <thead>\n    <tr style=\"text-align: right;\">\n      <th></th>\n      <th>A</th>\n      <th>B</th>\n      <th>C</th>\n      <th>D</th>\n    </tr>\n  </thead>\n  <tbody>\n    <tr>\n      <th>2018-02-27</th>\n      <td>-0.132690</td>\n      <td>-0.198666</td>\n      <td>0.148779</td>\n      <td>-0.517137</td>\n    </tr>\n    <tr>\n      <th>2018-02-28</th>\n      <td>-0.533898</td>\n      <td>0.841986</td>\n      <td>-0.726105</td>\n      <td>0.111035</td>\n    </tr>\n    <tr>\n      <th>2018-03-01</th>\n      <td>-1.274616</td>\n      <td>1.512550</td>\n      <td>-1.199580</td>\n      <td>0.143994</td>\n    </tr>\n    <tr>\n      <th>2018-03-02</th>\n      <td>-0.077891</td>\n      <td>0.920499</td>\n      <td>0.257005</td>\n      <td>-0.993725</td>\n    </tr>\n    <tr>\n      <th>2018-03-03</th>\n      <td>-0.254549</td>\n      <td>0.897376</td>\n      <td>2.175093</td>\n      <td>-0.106682</td>\n    </tr>\n    <tr>\n      <th>2018-03-04</th>\n      <td>1.404089</td>\n      <td>-0.102145</td>\n      <td>1.343167</td>\n      <td>-1.968997</td>\n    </tr>\n  </tbody>\n</table>\n</div>"
     },
     "metadata": {},
     "execution_count": 36
    }
   ],
   "source": [
    "df"
   ]
  },
  {
   "cell_type": "code",
   "execution_count": 37,
   "metadata": {},
   "outputs": [
    {
     "output_type": "execute_result",
     "data": {
      "text/plain": [
       "A   -0.132690\n",
       "B   -0.198666\n",
       "C    0.148779\n",
       "D   -0.517137\n",
       "Name: 2018-02-27 00:00:00, dtype: float64"
      ]
     },
     "metadata": {},
     "execution_count": 37
    }
   ],
   "source": [
    "df.loc[dates[0]]"
   ]
  },
  {
   "source": [
    "loc 通过标签获取数据  \n",
    "iloc 通过下标获取数据  \n",
    "at 快速访问标量，按标签访问  \n",
    "iat 快速访问标量，按下标访问"
   ],
   "cell_type": "markdown",
   "metadata": {}
  },
  {
   "source": [
    "df.loc[dates[0], 'A']\n",
    "df.loc[:, ['A','B']]\n",
    "df.at[dates[0], 'A']"
   ],
   "cell_type": "code",
   "metadata": {},
   "execution_count": 45,
   "outputs": [
    {
     "output_type": "execute_result",
     "data": {
      "text/plain": [
       "-0.1326901291752416"
      ]
     },
     "metadata": {},
     "execution_count": 45
    }
   ]
  },
  {
   "cell_type": "code",
   "execution_count": 47,
   "metadata": {},
   "outputs": [
    {
     "output_type": "execute_result",
     "data": {
      "text/plain": [
       "A   -0.077891\n",
       "B    0.920499\n",
       "C    0.257005\n",
       "D   -0.993725\n",
       "Name: 2018-03-02 00:00:00, dtype: float64"
      ]
     },
     "metadata": {},
     "execution_count": 47
    }
   ],
   "source": [
    "df.iloc[3]"
   ]
  },
  {
   "cell_type": "code",
   "execution_count": 49,
   "metadata": {},
   "outputs": [
    {
     "output_type": "execute_result",
     "data": {
      "text/plain": [
       "                   A         B\n",
       "2018-03-02 -0.077891  0.920499\n",
       "2018-03-03 -0.254549  0.897376"
      ],
      "text/html": "<div>\n<style scoped>\n    .dataframe tbody tr th:only-of-type {\n        vertical-align: middle;\n    }\n\n    .dataframe tbody tr th {\n        vertical-align: top;\n    }\n\n    .dataframe thead th {\n        text-align: right;\n    }\n</style>\n<table border=\"1\" class=\"dataframe\">\n  <thead>\n    <tr style=\"text-align: right;\">\n      <th></th>\n      <th>A</th>\n      <th>B</th>\n    </tr>\n  </thead>\n  <tbody>\n    <tr>\n      <th>2018-03-02</th>\n      <td>-0.077891</td>\n      <td>0.920499</td>\n    </tr>\n    <tr>\n      <th>2018-03-03</th>\n      <td>-0.254549</td>\n      <td>0.897376</td>\n    </tr>\n  </tbody>\n</table>\n</div>"
     },
     "metadata": {},
     "execution_count": 49
    }
   ],
   "source": [
    "df.iloc[3:5, 0:2]"
   ]
  },
  {
   "cell_type": "code",
   "execution_count": 50,
   "metadata": {},
   "outputs": [
    {
     "output_type": "execute_result",
     "data": {
      "text/plain": [
       "                   A         C\n",
       "2018-02-28 -0.533898 -0.726105\n",
       "2018-03-02 -0.077891  0.257005\n",
       "2018-03-03 -0.254549  2.175093"
      ],
      "text/html": "<div>\n<style scoped>\n    .dataframe tbody tr th:only-of-type {\n        vertical-align: middle;\n    }\n\n    .dataframe tbody tr th {\n        vertical-align: top;\n    }\n\n    .dataframe thead th {\n        text-align: right;\n    }\n</style>\n<table border=\"1\" class=\"dataframe\">\n  <thead>\n    <tr style=\"text-align: right;\">\n      <th></th>\n      <th>A</th>\n      <th>C</th>\n    </tr>\n  </thead>\n  <tbody>\n    <tr>\n      <th>2018-02-28</th>\n      <td>-0.533898</td>\n      <td>-0.726105</td>\n    </tr>\n    <tr>\n      <th>2018-03-02</th>\n      <td>-0.077891</td>\n      <td>0.257005</td>\n    </tr>\n    <tr>\n      <th>2018-03-03</th>\n      <td>-0.254549</td>\n      <td>2.175093</td>\n    </tr>\n  </tbody>\n</table>\n</div>"
     },
     "metadata": {},
     "execution_count": 50
    }
   ],
   "source": [
    "df.iloc[[1,3,4], [0,2]]"
   ]
  },
  {
   "cell_type": "code",
   "execution_count": 53,
   "metadata": {},
   "outputs": [
    {
     "output_type": "execute_result",
     "data": {
      "text/plain": [
       "                   A         B         C         D\n",
       "2018-02-28 -0.533898  0.841986 -0.726105  0.111035\n",
       "2018-03-01 -1.274616  1.512550 -1.199580  0.143994"
      ],
      "text/html": "<div>\n<style scoped>\n    .dataframe tbody tr th:only-of-type {\n        vertical-align: middle;\n    }\n\n    .dataframe tbody tr th {\n        vertical-align: top;\n    }\n\n    .dataframe thead th {\n        text-align: right;\n    }\n</style>\n<table border=\"1\" class=\"dataframe\">\n  <thead>\n    <tr style=\"text-align: right;\">\n      <th></th>\n      <th>A</th>\n      <th>B</th>\n      <th>C</th>\n      <th>D</th>\n    </tr>\n  </thead>\n  <tbody>\n    <tr>\n      <th>2018-02-28</th>\n      <td>-0.533898</td>\n      <td>0.841986</td>\n      <td>-0.726105</td>\n      <td>0.111035</td>\n    </tr>\n    <tr>\n      <th>2018-03-01</th>\n      <td>-1.274616</td>\n      <td>1.512550</td>\n      <td>-1.199580</td>\n      <td>0.143994</td>\n    </tr>\n  </tbody>\n</table>\n</div>"
     },
     "metadata": {},
     "execution_count": 53
    }
   ],
   "source": [
    "df.iloc[1:3, :]"
   ]
  },
  {
   "cell_type": "code",
   "execution_count": 55,
   "metadata": {},
   "outputs": [
    {
     "output_type": "execute_result",
     "data": {
      "text/plain": [
       "                   B         C\n",
       "2018-02-27 -0.198666  0.148779\n",
       "2018-02-28  0.841986 -0.726105\n",
       "2018-03-01  1.512550 -1.199580\n",
       "2018-03-02  0.920499  0.257005\n",
       "2018-03-03  0.897376  2.175093\n",
       "2018-03-04 -0.102145  1.343167"
      ],
      "text/html": "<div>\n<style scoped>\n    .dataframe tbody tr th:only-of-type {\n        vertical-align: middle;\n    }\n\n    .dataframe tbody tr th {\n        vertical-align: top;\n    }\n\n    .dataframe thead th {\n        text-align: right;\n    }\n</style>\n<table border=\"1\" class=\"dataframe\">\n  <thead>\n    <tr style=\"text-align: right;\">\n      <th></th>\n      <th>B</th>\n      <th>C</th>\n    </tr>\n  </thead>\n  <tbody>\n    <tr>\n      <th>2018-02-27</th>\n      <td>-0.198666</td>\n      <td>0.148779</td>\n    </tr>\n    <tr>\n      <th>2018-02-28</th>\n      <td>0.841986</td>\n      <td>-0.726105</td>\n    </tr>\n    <tr>\n      <th>2018-03-01</th>\n      <td>1.512550</td>\n      <td>-1.199580</td>\n    </tr>\n    <tr>\n      <th>2018-03-02</th>\n      <td>0.920499</td>\n      <td>0.257005</td>\n    </tr>\n    <tr>\n      <th>2018-03-03</th>\n      <td>0.897376</td>\n      <td>2.175093</td>\n    </tr>\n    <tr>\n      <th>2018-03-04</th>\n      <td>-0.102145</td>\n      <td>1.343167</td>\n    </tr>\n  </tbody>\n</table>\n</div>"
     },
     "metadata": {},
     "execution_count": 55
    }
   ],
   "source": [
    "df.iloc[:, 1:3]"
   ]
  },
  {
   "cell_type": "code",
   "execution_count": 58,
   "metadata": {},
   "outputs": [
    {
     "output_type": "execute_result",
     "data": {
      "text/plain": [
       "0.8419863800572258"
      ]
     },
     "metadata": {},
     "execution_count": 58
    }
   ],
   "source": [
    "df.iloc[1,1]"
   ]
  },
  {
   "cell_type": "code",
   "execution_count": 60,
   "metadata": {},
   "outputs": [
    {
     "output_type": "execute_result",
     "data": {
      "text/plain": [
       "                   A         B         C         D\n",
       "2018-02-27       NaN       NaN  0.148779       NaN\n",
       "2018-02-28       NaN  0.841986       NaN  0.111035\n",
       "2018-03-01       NaN  1.512550       NaN  0.143994\n",
       "2018-03-02       NaN  0.920499  0.257005       NaN\n",
       "2018-03-03       NaN  0.897376  2.175093       NaN\n",
       "2018-03-04  1.404089       NaN  1.343167       NaN"
      ],
      "text/html": "<div>\n<style scoped>\n    .dataframe tbody tr th:only-of-type {\n        vertical-align: middle;\n    }\n\n    .dataframe tbody tr th {\n        vertical-align: top;\n    }\n\n    .dataframe thead th {\n        text-align: right;\n    }\n</style>\n<table border=\"1\" class=\"dataframe\">\n  <thead>\n    <tr style=\"text-align: right;\">\n      <th></th>\n      <th>A</th>\n      <th>B</th>\n      <th>C</th>\n      <th>D</th>\n    </tr>\n  </thead>\n  <tbody>\n    <tr>\n      <th>2018-02-27</th>\n      <td>NaN</td>\n      <td>NaN</td>\n      <td>0.148779</td>\n      <td>NaN</td>\n    </tr>\n    <tr>\n      <th>2018-02-28</th>\n      <td>NaN</td>\n      <td>0.841986</td>\n      <td>NaN</td>\n      <td>0.111035</td>\n    </tr>\n    <tr>\n      <th>2018-03-01</th>\n      <td>NaN</td>\n      <td>1.512550</td>\n      <td>NaN</td>\n      <td>0.143994</td>\n    </tr>\n    <tr>\n      <th>2018-03-02</th>\n      <td>NaN</td>\n      <td>0.920499</td>\n      <td>0.257005</td>\n      <td>NaN</td>\n    </tr>\n    <tr>\n      <th>2018-03-03</th>\n      <td>NaN</td>\n      <td>0.897376</td>\n      <td>2.175093</td>\n      <td>NaN</td>\n    </tr>\n    <tr>\n      <th>2018-03-04</th>\n      <td>1.404089</td>\n      <td>NaN</td>\n      <td>1.343167</td>\n      <td>NaN</td>\n    </tr>\n  </tbody>\n</table>\n</div>"
     },
     "metadata": {},
     "execution_count": 60
    }
   ],
   "source": [
    "df[df.A > 0]\n",
    "df[df > 0]"
   ]
  },
  {
   "cell_type": "code",
   "execution_count": 61,
   "metadata": {},
   "outputs": [
    {
     "output_type": "execute_result",
     "data": {
      "text/plain": [
       "2013-01-02    1\n",
       "2013-01-03    2\n",
       "2013-01-04    3\n",
       "2013-01-05    4\n",
       "2013-01-06    5\n",
       "2013-01-07    6\n",
       "Freq: D, dtype: int64"
      ]
     },
     "metadata": {},
     "execution_count": 61
    }
   ],
   "source": [
    "pd.Series([1, 2, 3, 4, 5, 6], index=pd.date_range('20130102', periods=6))"
   ]
  },
  {
   "cell_type": "code",
   "execution_count": 65,
   "metadata": {},
   "outputs": [
    {
     "output_type": "execute_result",
     "data": {
      "text/plain": [
       "                   A         B         C  D\n",
       "2018-02-27  0.000000  0.000000  0.148779  5\n",
       "2018-02-28 -0.533898  0.841986 -0.726105  5\n",
       "2018-03-01 -1.274616  1.512550 -1.199580  5\n",
       "2018-03-02 -0.077891  0.920499  0.257005  5\n",
       "2018-03-03 -0.254549  0.897376  2.175093  5\n",
       "2018-03-04  1.404089 -0.102145  1.343167  5"
      ],
      "text/html": "<div>\n<style scoped>\n    .dataframe tbody tr th:only-of-type {\n        vertical-align: middle;\n    }\n\n    .dataframe tbody tr th {\n        vertical-align: top;\n    }\n\n    .dataframe thead th {\n        text-align: right;\n    }\n</style>\n<table border=\"1\" class=\"dataframe\">\n  <thead>\n    <tr style=\"text-align: right;\">\n      <th></th>\n      <th>A</th>\n      <th>B</th>\n      <th>C</th>\n      <th>D</th>\n    </tr>\n  </thead>\n  <tbody>\n    <tr>\n      <th>2018-02-27</th>\n      <td>0.000000</td>\n      <td>0.000000</td>\n      <td>0.148779</td>\n      <td>5</td>\n    </tr>\n    <tr>\n      <th>2018-02-28</th>\n      <td>-0.533898</td>\n      <td>0.841986</td>\n      <td>-0.726105</td>\n      <td>5</td>\n    </tr>\n    <tr>\n      <th>2018-03-01</th>\n      <td>-1.274616</td>\n      <td>1.512550</td>\n      <td>-1.199580</td>\n      <td>5</td>\n    </tr>\n    <tr>\n      <th>2018-03-02</th>\n      <td>-0.077891</td>\n      <td>0.920499</td>\n      <td>0.257005</td>\n      <td>5</td>\n    </tr>\n    <tr>\n      <th>2018-03-03</th>\n      <td>-0.254549</td>\n      <td>0.897376</td>\n      <td>2.175093</td>\n      <td>5</td>\n    </tr>\n    <tr>\n      <th>2018-03-04</th>\n      <td>1.404089</td>\n      <td>-0.102145</td>\n      <td>1.343167</td>\n      <td>5</td>\n    </tr>\n  </tbody>\n</table>\n</div>"
     },
     "metadata": {},
     "execution_count": 65
    }
   ],
   "source": [
    "df.at[dates[0], 'A'] = 0\n",
    "df.iat[0, 1] = 0\n",
    "df.loc[:, 'D'] = np.array([5] * len(df))\n",
    "df"
   ]
  },
  {
   "cell_type": "code",
   "execution_count": 68,
   "metadata": {},
   "outputs": [
    {
     "output_type": "execute_result",
     "data": {
      "text/plain": [
       "                   A         B         C  D\n",
       "2018-02-27  0.000000  0.000000 -0.148779 -5\n",
       "2018-02-28 -0.533898 -0.841986 -0.726105 -5\n",
       "2018-03-01 -1.274616 -1.512550 -1.199580 -5\n",
       "2018-03-02 -0.077891 -0.920499 -0.257005 -5\n",
       "2018-03-03 -0.254549 -0.897376 -2.175093 -5\n",
       "2018-03-04 -1.404089 -0.102145 -1.343167 -5"
      ],
      "text/html": "<div>\n<style scoped>\n    .dataframe tbody tr th:only-of-type {\n        vertical-align: middle;\n    }\n\n    .dataframe tbody tr th {\n        vertical-align: top;\n    }\n\n    .dataframe thead th {\n        text-align: right;\n    }\n</style>\n<table border=\"1\" class=\"dataframe\">\n  <thead>\n    <tr style=\"text-align: right;\">\n      <th></th>\n      <th>A</th>\n      <th>B</th>\n      <th>C</th>\n      <th>D</th>\n    </tr>\n  </thead>\n  <tbody>\n    <tr>\n      <th>2018-02-27</th>\n      <td>0.000000</td>\n      <td>0.000000</td>\n      <td>-0.148779</td>\n      <td>-5</td>\n    </tr>\n    <tr>\n      <th>2018-02-28</th>\n      <td>-0.533898</td>\n      <td>-0.841986</td>\n      <td>-0.726105</td>\n      <td>-5</td>\n    </tr>\n    <tr>\n      <th>2018-03-01</th>\n      <td>-1.274616</td>\n      <td>-1.512550</td>\n      <td>-1.199580</td>\n      <td>-5</td>\n    </tr>\n    <tr>\n      <th>2018-03-02</th>\n      <td>-0.077891</td>\n      <td>-0.920499</td>\n      <td>-0.257005</td>\n      <td>-5</td>\n    </tr>\n    <tr>\n      <th>2018-03-03</th>\n      <td>-0.254549</td>\n      <td>-0.897376</td>\n      <td>-2.175093</td>\n      <td>-5</td>\n    </tr>\n    <tr>\n      <th>2018-03-04</th>\n      <td>-1.404089</td>\n      <td>-0.102145</td>\n      <td>-1.343167</td>\n      <td>-5</td>\n    </tr>\n  </tbody>\n</table>\n</div>"
     },
     "metadata": {},
     "execution_count": 68
    }
   ],
   "source": [
    "df2 = df.copy()\n",
    "df2[df > 0] = -df2\n",
    "df2"
   ]
  },
  {
   "cell_type": "code",
   "execution_count": 70,
   "metadata": {},
   "outputs": [
    {
     "output_type": "execute_result",
     "data": {
      "text/plain": [
       "2018-02-27    1.287195\n",
       "2018-02-28    1.145496\n",
       "2018-03-01    1.009588\n",
       "2018-03-02    1.524903\n",
       "2018-03-03    1.954480\n",
       "2018-03-04    1.911278\n",
       "Freq: D, dtype: float64"
      ]
     },
     "metadata": {},
     "execution_count": 70
    }
   ],
   "source": [
    "df.mean(1)"
   ]
  },
  {
   "cell_type": "code",
   "execution_count": 7,
   "metadata": {},
   "outputs": [
    {
     "output_type": "execute_result",
     "data": {
      "text/plain": [
       "          0         1         2         3\n",
       "0  0.659323  1.863036 -1.862321 -0.852250\n",
       "1 -1.086309 -1.539613  1.469842  1.026314\n",
       "2  0.266006  1.307705 -0.295840 -1.549553\n",
       "3 -0.218823  0.633846 -0.918497  0.314779\n",
       "4 -0.707452  1.705494 -1.542939 -0.049955\n",
       "5  1.539236  0.087885  1.763523  0.515745\n",
       "6 -0.974021 -2.868479 -1.439508  1.470024\n",
       "7 -0.003381 -0.986274  0.240697  0.719508\n",
       "8  2.621907 -0.696096 -1.882896  0.731006\n",
       "9  0.970781 -0.025956  1.563604  0.380356"
      ],
      "text/html": "<div>\n<style scoped>\n    .dataframe tbody tr th:only-of-type {\n        vertical-align: middle;\n    }\n\n    .dataframe tbody tr th {\n        vertical-align: top;\n    }\n\n    .dataframe thead th {\n        text-align: right;\n    }\n</style>\n<table border=\"1\" class=\"dataframe\">\n  <thead>\n    <tr style=\"text-align: right;\">\n      <th></th>\n      <th>0</th>\n      <th>1</th>\n      <th>2</th>\n      <th>3</th>\n    </tr>\n  </thead>\n  <tbody>\n    <tr>\n      <th>0</th>\n      <td>0.659323</td>\n      <td>1.863036</td>\n      <td>-1.862321</td>\n      <td>-0.852250</td>\n    </tr>\n    <tr>\n      <th>1</th>\n      <td>-1.086309</td>\n      <td>-1.539613</td>\n      <td>1.469842</td>\n      <td>1.026314</td>\n    </tr>\n    <tr>\n      <th>2</th>\n      <td>0.266006</td>\n      <td>1.307705</td>\n      <td>-0.295840</td>\n      <td>-1.549553</td>\n    </tr>\n    <tr>\n      <th>3</th>\n      <td>-0.218823</td>\n      <td>0.633846</td>\n      <td>-0.918497</td>\n      <td>0.314779</td>\n    </tr>\n    <tr>\n      <th>4</th>\n      <td>-0.707452</td>\n      <td>1.705494</td>\n      <td>-1.542939</td>\n      <td>-0.049955</td>\n    </tr>\n    <tr>\n      <th>5</th>\n      <td>1.539236</td>\n      <td>0.087885</td>\n      <td>1.763523</td>\n      <td>0.515745</td>\n    </tr>\n    <tr>\n      <th>6</th>\n      <td>-0.974021</td>\n      <td>-2.868479</td>\n      <td>-1.439508</td>\n      <td>1.470024</td>\n    </tr>\n    <tr>\n      <th>7</th>\n      <td>-0.003381</td>\n      <td>-0.986274</td>\n      <td>0.240697</td>\n      <td>0.719508</td>\n    </tr>\n    <tr>\n      <th>8</th>\n      <td>2.621907</td>\n      <td>-0.696096</td>\n      <td>-1.882896</td>\n      <td>0.731006</td>\n    </tr>\n    <tr>\n      <th>9</th>\n      <td>0.970781</td>\n      <td>-0.025956</td>\n      <td>1.563604</td>\n      <td>0.380356</td>\n    </tr>\n  </tbody>\n</table>\n</div>"
     },
     "metadata": {},
     "execution_count": 7
    }
   ],
   "source": [
    "df = pd.DataFrame(np.random.randn(10,4))\n",
    "df"
   ]
  },
  {
   "cell_type": "code",
   "execution_count": 9,
   "metadata": {},
   "outputs": [
    {
     "output_type": "execute_result",
     "data": {
      "text/plain": [
       "          0         1         2         3\n",
       "0  0.659323  1.863036 -1.862321 -0.852250\n",
       "1 -1.086309 -1.539613  1.469842  1.026314\n",
       "2  0.266006  1.307705 -0.295840 -1.549553\n",
       "3 -0.218823  0.633846 -0.918497  0.314779\n",
       "4 -0.707452  1.705494 -1.542939 -0.049955\n",
       "5  1.539236  0.087885  1.763523  0.515745\n",
       "6 -0.974021 -2.868479 -1.439508  1.470024\n",
       "7 -0.003381 -0.986274  0.240697  0.719508\n",
       "8  2.621907 -0.696096 -1.882896  0.731006\n",
       "9  0.970781 -0.025956  1.563604  0.380356"
      ],
      "text/html": "<div>\n<style scoped>\n    .dataframe tbody tr th:only-of-type {\n        vertical-align: middle;\n    }\n\n    .dataframe tbody tr th {\n        vertical-align: top;\n    }\n\n    .dataframe thead th {\n        text-align: right;\n    }\n</style>\n<table border=\"1\" class=\"dataframe\">\n  <thead>\n    <tr style=\"text-align: right;\">\n      <th></th>\n      <th>0</th>\n      <th>1</th>\n      <th>2</th>\n      <th>3</th>\n    </tr>\n  </thead>\n  <tbody>\n    <tr>\n      <th>0</th>\n      <td>0.659323</td>\n      <td>1.863036</td>\n      <td>-1.862321</td>\n      <td>-0.852250</td>\n    </tr>\n    <tr>\n      <th>1</th>\n      <td>-1.086309</td>\n      <td>-1.539613</td>\n      <td>1.469842</td>\n      <td>1.026314</td>\n    </tr>\n    <tr>\n      <th>2</th>\n      <td>0.266006</td>\n      <td>1.307705</td>\n      <td>-0.295840</td>\n      <td>-1.549553</td>\n    </tr>\n    <tr>\n      <th>3</th>\n      <td>-0.218823</td>\n      <td>0.633846</td>\n      <td>-0.918497</td>\n      <td>0.314779</td>\n    </tr>\n    <tr>\n      <th>4</th>\n      <td>-0.707452</td>\n      <td>1.705494</td>\n      <td>-1.542939</td>\n      <td>-0.049955</td>\n    </tr>\n    <tr>\n      <th>5</th>\n      <td>1.539236</td>\n      <td>0.087885</td>\n      <td>1.763523</td>\n      <td>0.515745</td>\n    </tr>\n    <tr>\n      <th>6</th>\n      <td>-0.974021</td>\n      <td>-2.868479</td>\n      <td>-1.439508</td>\n      <td>1.470024</td>\n    </tr>\n    <tr>\n      <th>7</th>\n      <td>-0.003381</td>\n      <td>-0.986274</td>\n      <td>0.240697</td>\n      <td>0.719508</td>\n    </tr>\n    <tr>\n      <th>8</th>\n      <td>2.621907</td>\n      <td>-0.696096</td>\n      <td>-1.882896</td>\n      <td>0.731006</td>\n    </tr>\n    <tr>\n      <th>9</th>\n      <td>0.970781</td>\n      <td>-0.025956</td>\n      <td>1.563604</td>\n      <td>0.380356</td>\n    </tr>\n  </tbody>\n</table>\n</div>"
     },
     "metadata": {},
     "execution_count": 9
    }
   ],
   "source": [
    "pieces = [df[:3], df[3:7], df[7:]]\n",
    "pd.concat(pieces)"
   ]
  },
  {
   "cell_type": "code",
   "execution_count": 10,
   "metadata": {},
   "outputs": [
    {
     "output_type": "execute_result",
     "data": {
      "text/plain": [
       "   key  lval\n",
       "0  foo     1\n",
       "1  foo     2"
      ],
      "text/html": "<div>\n<style scoped>\n    .dataframe tbody tr th:only-of-type {\n        vertical-align: middle;\n    }\n\n    .dataframe tbody tr th {\n        vertical-align: top;\n    }\n\n    .dataframe thead th {\n        text-align: right;\n    }\n</style>\n<table border=\"1\" class=\"dataframe\">\n  <thead>\n    <tr style=\"text-align: right;\">\n      <th></th>\n      <th>key</th>\n      <th>lval</th>\n    </tr>\n  </thead>\n  <tbody>\n    <tr>\n      <th>0</th>\n      <td>foo</td>\n      <td>1</td>\n    </tr>\n    <tr>\n      <th>1</th>\n      <td>foo</td>\n      <td>2</td>\n    </tr>\n  </tbody>\n</table>\n</div>"
     },
     "metadata": {},
     "execution_count": 10
    }
   ],
   "source": [
    "left = pd.DataFrame({'key': ['foo', 'foo'], 'lval': [1, 2]})\n",
    "right = pd.DataFrame({'key': ['foo', 'foo'], 'rval': [4, 5]})\n",
    "left"
   ]
  },
  {
   "cell_type": "code",
   "execution_count": 14,
   "metadata": {},
   "outputs": [
    {
     "output_type": "execute_result",
     "data": {
      "text/plain": [
       "          A         B         C         D\n",
       "0 -0.178854 -1.454547  1.553238  0.408014\n",
       "1 -0.194286  0.125319 -0.481023 -1.579671\n",
       "2 -0.742870  0.143263 -0.232664 -0.142620\n",
       "3  1.207921 -1.437062  0.346859 -1.201252\n",
       "4 -0.431402  0.686570  0.773816 -0.805308\n",
       "5  0.596808 -0.969573 -2.734879  0.063364\n",
       "6 -0.726516 -2.357600  0.140053  1.044385\n",
       "7  0.156415  1.362213 -0.676063 -1.018014\n",
       "8  1.207921 -1.437062  0.346859 -1.201252"
      ],
      "text/html": "<div>\n<style scoped>\n    .dataframe tbody tr th:only-of-type {\n        vertical-align: middle;\n    }\n\n    .dataframe tbody tr th {\n        vertical-align: top;\n    }\n\n    .dataframe thead th {\n        text-align: right;\n    }\n</style>\n<table border=\"1\" class=\"dataframe\">\n  <thead>\n    <tr style=\"text-align: right;\">\n      <th></th>\n      <th>A</th>\n      <th>B</th>\n      <th>C</th>\n      <th>D</th>\n    </tr>\n  </thead>\n  <tbody>\n    <tr>\n      <th>0</th>\n      <td>-0.178854</td>\n      <td>-1.454547</td>\n      <td>1.553238</td>\n      <td>0.408014</td>\n    </tr>\n    <tr>\n      <th>1</th>\n      <td>-0.194286</td>\n      <td>0.125319</td>\n      <td>-0.481023</td>\n      <td>-1.579671</td>\n    </tr>\n    <tr>\n      <th>2</th>\n      <td>-0.742870</td>\n      <td>0.143263</td>\n      <td>-0.232664</td>\n      <td>-0.142620</td>\n    </tr>\n    <tr>\n      <th>3</th>\n      <td>1.207921</td>\n      <td>-1.437062</td>\n      <td>0.346859</td>\n      <td>-1.201252</td>\n    </tr>\n    <tr>\n      <th>4</th>\n      <td>-0.431402</td>\n      <td>0.686570</td>\n      <td>0.773816</td>\n      <td>-0.805308</td>\n    </tr>\n    <tr>\n      <th>5</th>\n      <td>0.596808</td>\n      <td>-0.969573</td>\n      <td>-2.734879</td>\n      <td>0.063364</td>\n    </tr>\n    <tr>\n      <th>6</th>\n      <td>-0.726516</td>\n      <td>-2.357600</td>\n      <td>0.140053</td>\n      <td>1.044385</td>\n    </tr>\n    <tr>\n      <th>7</th>\n      <td>0.156415</td>\n      <td>1.362213</td>\n      <td>-0.676063</td>\n      <td>-1.018014</td>\n    </tr>\n    <tr>\n      <th>8</th>\n      <td>1.207921</td>\n      <td>-1.437062</td>\n      <td>0.346859</td>\n      <td>-1.201252</td>\n    </tr>\n  </tbody>\n</table>\n</div>"
     },
     "metadata": {},
     "execution_count": 14
    }
   ],
   "source": [
    "df = pd.DataFrame(np.random.randn(8, 4), columns=['A', 'B', 'C', 'D'])\n",
    "s = df.iloc[3]\n",
    "df.append(s, ignore_index=True)"
   ]
  },
  {
   "cell_type": "code",
   "execution_count": 20,
   "metadata": {},
   "outputs": [
    {
     "output_type": "execute_result",
     "data": {
      "text/plain": [
       "     A      B         C         D\n",
       "0  foo    one  0.408042  0.157784\n",
       "1  bar    one  0.149643 -0.946048\n",
       "2  foo    two -1.893943  0.567011\n",
       "3  bar  three  0.739249 -1.318401\n",
       "4  foo    two -1.018874  1.972817\n",
       "5  bar    two -0.434529  0.856417\n",
       "6  foo    one -0.899573  1.371724\n",
       "7  foo  three  0.474170  0.777023"
      ],
      "text/html": "<div>\n<style scoped>\n    .dataframe tbody tr th:only-of-type {\n        vertical-align: middle;\n    }\n\n    .dataframe tbody tr th {\n        vertical-align: top;\n    }\n\n    .dataframe thead th {\n        text-align: right;\n    }\n</style>\n<table border=\"1\" class=\"dataframe\">\n  <thead>\n    <tr style=\"text-align: right;\">\n      <th></th>\n      <th>A</th>\n      <th>B</th>\n      <th>C</th>\n      <th>D</th>\n    </tr>\n  </thead>\n  <tbody>\n    <tr>\n      <th>0</th>\n      <td>foo</td>\n      <td>one</td>\n      <td>0.408042</td>\n      <td>0.157784</td>\n    </tr>\n    <tr>\n      <th>1</th>\n      <td>bar</td>\n      <td>one</td>\n      <td>0.149643</td>\n      <td>-0.946048</td>\n    </tr>\n    <tr>\n      <th>2</th>\n      <td>foo</td>\n      <td>two</td>\n      <td>-1.893943</td>\n      <td>0.567011</td>\n    </tr>\n    <tr>\n      <th>3</th>\n      <td>bar</td>\n      <td>three</td>\n      <td>0.739249</td>\n      <td>-1.318401</td>\n    </tr>\n    <tr>\n      <th>4</th>\n      <td>foo</td>\n      <td>two</td>\n      <td>-1.018874</td>\n      <td>1.972817</td>\n    </tr>\n    <tr>\n      <th>5</th>\n      <td>bar</td>\n      <td>two</td>\n      <td>-0.434529</td>\n      <td>0.856417</td>\n    </tr>\n    <tr>\n      <th>6</th>\n      <td>foo</td>\n      <td>one</td>\n      <td>-0.899573</td>\n      <td>1.371724</td>\n    </tr>\n    <tr>\n      <th>7</th>\n      <td>foo</td>\n      <td>three</td>\n      <td>0.474170</td>\n      <td>0.777023</td>\n    </tr>\n  </tbody>\n</table>\n</div>"
     },
     "metadata": {},
     "execution_count": 20
    }
   ],
   "source": [
    "df = pd.DataFrame({'A': ['foo', 'bar', 'foo', 'bar',\n",
    "                            'foo', 'bar', 'foo', 'foo'],\n",
    "                    'B': ['one', 'one', 'two', 'three',\n",
    "                            'two', 'two', 'one', 'three'],\n",
    "                    'C': np.random.randn(8),\n",
    "                    'D': np.random.randn(8)})\n",
    "df"
   ]
  },
  {
   "cell_type": "code",
   "execution_count": 21,
   "metadata": {},
   "outputs": [
    {
     "output_type": "execute_result",
     "data": {
      "text/plain": [
       "            C         D\n",
       "A                      \n",
       "bar  0.454363 -1.408032\n",
       "foo -2.930178  4.846359"
      ],
      "text/html": "<div>\n<style scoped>\n    .dataframe tbody tr th:only-of-type {\n        vertical-align: middle;\n    }\n\n    .dataframe tbody tr th {\n        vertical-align: top;\n    }\n\n    .dataframe thead th {\n        text-align: right;\n    }\n</style>\n<table border=\"1\" class=\"dataframe\">\n  <thead>\n    <tr style=\"text-align: right;\">\n      <th></th>\n      <th>C</th>\n      <th>D</th>\n    </tr>\n    <tr>\n      <th>A</th>\n      <th></th>\n      <th></th>\n    </tr>\n  </thead>\n  <tbody>\n    <tr>\n      <th>bar</th>\n      <td>0.454363</td>\n      <td>-1.408032</td>\n    </tr>\n    <tr>\n      <th>foo</th>\n      <td>-2.930178</td>\n      <td>4.846359</td>\n    </tr>\n  </tbody>\n</table>\n</div>"
     },
     "metadata": {},
     "execution_count": 21
    }
   ],
   "source": [
    "df.groupby('A').sum()"
   ]
  },
  {
   "cell_type": "code",
   "execution_count": 22,
   "metadata": {},
   "outputs": [
    {
     "output_type": "execute_result",
     "data": {
      "text/plain": [
       "[('bar', 'one'),\n",
       " ('bar', 'two'),\n",
       " ('baz', 'one'),\n",
       " ('baz', 'two'),\n",
       " ('foo', 'one'),\n",
       " ('foo', 'two'),\n",
       " ('qux', 'one'),\n",
       " ('qux', 'two')]"
      ]
     },
     "metadata": {},
     "execution_count": 22
    }
   ],
   "source": [
    "tuples = list(zip(*[['bar', 'bar', 'baz', 'baz',\n",
    "                        'foo', 'foo', 'qux', 'qux'],\n",
    "                    ['one', 'two', 'one', 'two',\n",
    "                        'one', 'two', 'one', 'two']]))\n",
    "tuples"
   ]
  },
  {
   "cell_type": "code",
   "execution_count": 25,
   "metadata": {},
   "outputs": [
    {
     "output_type": "execute_result",
     "data": {
      "text/plain": [
       "                     A         B\n",
       "first second                    \n",
       "bar   one     0.627387  0.394878\n",
       "      two    -0.731226 -1.844609\n",
       "baz   one     0.537800  0.994796\n",
       "      two    -0.604727 -0.500192\n",
       "foo   one     0.092361 -0.941229\n",
       "      two     0.774733 -0.491640\n",
       "qux   one    -0.516123  0.736148\n",
       "      two    -0.168111  0.090278"
      ],
      "text/html": "<div>\n<style scoped>\n    .dataframe tbody tr th:only-of-type {\n        vertical-align: middle;\n    }\n\n    .dataframe tbody tr th {\n        vertical-align: top;\n    }\n\n    .dataframe thead th {\n        text-align: right;\n    }\n</style>\n<table border=\"1\" class=\"dataframe\">\n  <thead>\n    <tr style=\"text-align: right;\">\n      <th></th>\n      <th></th>\n      <th>A</th>\n      <th>B</th>\n    </tr>\n    <tr>\n      <th>first</th>\n      <th>second</th>\n      <th></th>\n      <th></th>\n    </tr>\n  </thead>\n  <tbody>\n    <tr>\n      <th rowspan=\"2\" valign=\"top\">bar</th>\n      <th>one</th>\n      <td>0.627387</td>\n      <td>0.394878</td>\n    </tr>\n    <tr>\n      <th>two</th>\n      <td>-0.731226</td>\n      <td>-1.844609</td>\n    </tr>\n    <tr>\n      <th rowspan=\"2\" valign=\"top\">baz</th>\n      <th>one</th>\n      <td>0.537800</td>\n      <td>0.994796</td>\n    </tr>\n    <tr>\n      <th>two</th>\n      <td>-0.604727</td>\n      <td>-0.500192</td>\n    </tr>\n    <tr>\n      <th rowspan=\"2\" valign=\"top\">foo</th>\n      <th>one</th>\n      <td>0.092361</td>\n      <td>-0.941229</td>\n    </tr>\n    <tr>\n      <th>two</th>\n      <td>0.774733</td>\n      <td>-0.491640</td>\n    </tr>\n    <tr>\n      <th rowspan=\"2\" valign=\"top\">qux</th>\n      <th>one</th>\n      <td>-0.516123</td>\n      <td>0.736148</td>\n    </tr>\n    <tr>\n      <th>two</th>\n      <td>-0.168111</td>\n      <td>0.090278</td>\n    </tr>\n  </tbody>\n</table>\n</div>"
     },
     "metadata": {},
     "execution_count": 25
    }
   ],
   "source": [
    "index = pd.MultiIndex.from_tuples(tuples, names=['first', 'second'])\n",
    "df = pd.DataFrame(np.random.randn(8, 2), index=index, columns=['A', 'B'])\n",
    "df"
   ]
  },
  {
   "cell_type": "code",
   "execution_count": 27,
   "metadata": {},
   "outputs": [
    {
     "output_type": "error",
     "ename": "ImportError",
     "evalue": "matplotlib is required for plotting when the default backend \"matplotlib\" is selected.",
     "traceback": [
      "\u001b[1;31m---------------------------------------------------------------------------\u001b[0m",
      "\u001b[1;31mImportError\u001b[0m                               Traceback (most recent call last)",
      "\u001b[1;32m<ipython-input-27-7ea99c00ceb5>\u001b[0m in \u001b[0;36m<module>\u001b[1;34m\u001b[0m\n\u001b[0;32m      1\u001b[0m \u001b[0mts\u001b[0m \u001b[1;33m=\u001b[0m \u001b[0mpd\u001b[0m\u001b[1;33m.\u001b[0m\u001b[0mSeries\u001b[0m\u001b[1;33m(\u001b[0m\u001b[0mnp\u001b[0m\u001b[1;33m.\u001b[0m\u001b[0mrandom\u001b[0m\u001b[1;33m.\u001b[0m\u001b[0mrandn\u001b[0m\u001b[1;33m(\u001b[0m\u001b[1;36m1000\u001b[0m\u001b[1;33m)\u001b[0m\u001b[1;33m,\u001b[0m \u001b[0mindex\u001b[0m\u001b[1;33m=\u001b[0m\u001b[0mpd\u001b[0m\u001b[1;33m.\u001b[0m\u001b[0mdate_range\u001b[0m\u001b[1;33m(\u001b[0m\u001b[1;34m'1/1/2000'\u001b[0m\u001b[1;33m,\u001b[0m \u001b[0mperiods\u001b[0m\u001b[1;33m=\u001b[0m\u001b[1;36m1000\u001b[0m\u001b[1;33m)\u001b[0m\u001b[1;33m)\u001b[0m\u001b[1;33m\u001b[0m\u001b[1;33m\u001b[0m\u001b[0m\n\u001b[0;32m      2\u001b[0m \u001b[0mts\u001b[0m \u001b[1;33m=\u001b[0m \u001b[0mts\u001b[0m\u001b[1;33m.\u001b[0m\u001b[0mcumsum\u001b[0m\u001b[1;33m(\u001b[0m\u001b[1;33m)\u001b[0m\u001b[1;33m\u001b[0m\u001b[1;33m\u001b[0m\u001b[0m\n\u001b[1;32m----> 3\u001b[1;33m \u001b[0mts\u001b[0m\u001b[1;33m.\u001b[0m\u001b[0mplot\u001b[0m\u001b[1;33m(\u001b[0m\u001b[1;33m)\u001b[0m\u001b[1;33m\u001b[0m\u001b[1;33m\u001b[0m\u001b[0m\n\u001b[0m",
      "\u001b[1;32m~\\anaconda3\\envs\\fin\\lib\\site-packages\\pandas\\plotting\\_core.py\u001b[0m in \u001b[0;36m__call__\u001b[1;34m(self, *args, **kwargs)\u001b[0m\n\u001b[0;32m    867\u001b[0m \u001b[1;33m\u001b[0m\u001b[0m\n\u001b[0;32m    868\u001b[0m     \u001b[1;32mdef\u001b[0m \u001b[0m__call__\u001b[0m\u001b[1;33m(\u001b[0m\u001b[0mself\u001b[0m\u001b[1;33m,\u001b[0m \u001b[1;33m*\u001b[0m\u001b[0margs\u001b[0m\u001b[1;33m,\u001b[0m \u001b[1;33m**\u001b[0m\u001b[0mkwargs\u001b[0m\u001b[1;33m)\u001b[0m\u001b[1;33m:\u001b[0m\u001b[1;33m\u001b[0m\u001b[1;33m\u001b[0m\u001b[0m\n\u001b[1;32m--> 869\u001b[1;33m         \u001b[0mplot_backend\u001b[0m \u001b[1;33m=\u001b[0m \u001b[0m_get_plot_backend\u001b[0m\u001b[1;33m(\u001b[0m\u001b[0mkwargs\u001b[0m\u001b[1;33m.\u001b[0m\u001b[0mpop\u001b[0m\u001b[1;33m(\u001b[0m\u001b[1;34m\"backend\"\u001b[0m\u001b[1;33m,\u001b[0m \u001b[1;32mNone\u001b[0m\u001b[1;33m)\u001b[0m\u001b[1;33m)\u001b[0m\u001b[1;33m\u001b[0m\u001b[1;33m\u001b[0m\u001b[0m\n\u001b[0m\u001b[0;32m    870\u001b[0m \u001b[1;33m\u001b[0m\u001b[0m\n\u001b[0;32m    871\u001b[0m         x, y, kind, kwargs = self._get_call_args(\n",
      "\u001b[1;32m~\\anaconda3\\envs\\fin\\lib\\site-packages\\pandas\\plotting\\_core.py\u001b[0m in \u001b[0;36m_get_plot_backend\u001b[1;34m(backend)\u001b[0m\n\u001b[0;32m   1781\u001b[0m                 \u001b[1;34m\"matplotlib is required for plotting when the \"\u001b[0m\u001b[1;33m\u001b[0m\u001b[1;33m\u001b[0m\u001b[0m\n\u001b[0;32m   1782\u001b[0m                 \u001b[1;34m'default backend \"matplotlib\" is selected.'\u001b[0m\u001b[1;33m\u001b[0m\u001b[1;33m\u001b[0m\u001b[0m\n\u001b[1;32m-> 1783\u001b[1;33m             ) from None\n\u001b[0m\u001b[0;32m   1784\u001b[0m \u001b[1;33m\u001b[0m\u001b[0m\n\u001b[0;32m   1785\u001b[0m         \u001b[0m_backends\u001b[0m\u001b[1;33m[\u001b[0m\u001b[1;34m\"matplotlib\"\u001b[0m\u001b[1;33m]\u001b[0m \u001b[1;33m=\u001b[0m \u001b[0mmodule\u001b[0m\u001b[1;33m\u001b[0m\u001b[1;33m\u001b[0m\u001b[0m\n",
      "\u001b[1;31mImportError\u001b[0m: matplotlib is required for plotting when the default backend \"matplotlib\" is selected."
     ]
    }
   ],
   "source": [
    "ts = pd.Series(np.random.randn(1000), index=pd.date_range('1/1/2000', periods=1000))\n",
    "# ts = ts.cumsum()\n",
    "ts.plot()"
   ]
  },
  {
   "cell_type": "code",
   "execution_count": null,
   "metadata": {},
   "outputs": [],
   "source": []
  }
 ]
}